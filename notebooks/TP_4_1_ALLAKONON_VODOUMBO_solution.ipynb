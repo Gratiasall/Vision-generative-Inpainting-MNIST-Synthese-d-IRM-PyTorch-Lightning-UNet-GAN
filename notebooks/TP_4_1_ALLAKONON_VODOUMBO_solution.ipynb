{
  "cells": [
    {
      "cell_type": "markdown",
      "id": "a729761a",
      "metadata": {
        "id": "a729761a"
      },
      "source": [
        "**Avant de débuter ce TP** :\n",
        "\n",
        "1. **Changez le type d'exécution sur Google Colab** : `Exécution > Modifiez le type d'exécution > T4 GPU`\n",
        "2. **Installez les paquets ci-dessous** :"
      ]
    },
    {
      "cell_type": "code",
      "execution_count": 1,
      "id": "c03161bd",
      "metadata": {
        "colab": {
          "base_uri": "https://localhost:8080/"
        },
        "id": "c03161bd",
        "outputId": "264d1e2c-5264-443f-c676-51cb64b8fbfc"
      },
      "outputs": [
        {
          "output_type": "stream",
          "name": "stdout",
          "text": [
            "Collecting lightning\n",
            "  Downloading lightning-2.5.5-py3-none-any.whl.metadata (39 kB)\n",
            "Collecting torchmetrics\n",
            "  Downloading torchmetrics-1.8.2-py3-none-any.whl.metadata (22 kB)\n",
            "Collecting torchinfo\n",
            "  Downloading torchinfo-1.8.0-py3-none-any.whl.metadata (21 kB)\n",
            "Requirement already satisfied: PyYAML<8.0,>5.4 in /usr/local/lib/python3.12/dist-packages (from lightning) (6.0.3)\n",
            "Requirement already satisfied: fsspec<2027.0,>=2022.5.0 in /usr/local/lib/python3.12/dist-packages (from fsspec[http]<2027.0,>=2022.5.0->lightning) (2025.3.0)\n",
            "Collecting lightning-utilities<2.0,>=0.10.0 (from lightning)\n",
            "  Downloading lightning_utilities-0.15.2-py3-none-any.whl.metadata (5.7 kB)\n",
            "Requirement already satisfied: packaging<27.0,>=20.0 in /usr/local/lib/python3.12/dist-packages (from lightning) (25.0)\n",
            "Requirement already satisfied: torch<4.0,>=2.1.0 in /usr/local/lib/python3.12/dist-packages (from lightning) (2.8.0+cu126)\n",
            "Requirement already satisfied: tqdm<6.0,>=4.57.0 in /usr/local/lib/python3.12/dist-packages (from lightning) (4.67.1)\n",
            "Requirement already satisfied: typing-extensions<6.0,>4.5.0 in /usr/local/lib/python3.12/dist-packages (from lightning) (4.15.0)\n",
            "Collecting pytorch-lightning (from lightning)\n",
            "  Downloading pytorch_lightning-2.5.5-py3-none-any.whl.metadata (20 kB)\n",
            "Requirement already satisfied: numpy>1.20.0 in /usr/local/lib/python3.12/dist-packages (from torchmetrics) (2.0.2)\n",
            "Requirement already satisfied: aiohttp!=4.0.0a0,!=4.0.0a1 in /usr/local/lib/python3.12/dist-packages (from fsspec[http]<2027.0,>=2022.5.0->lightning) (3.13.0)\n",
            "Requirement already satisfied: setuptools in /usr/local/lib/python3.12/dist-packages (from lightning-utilities<2.0,>=0.10.0->lightning) (75.2.0)\n",
            "Requirement already satisfied: filelock in /usr/local/lib/python3.12/dist-packages (from torch<4.0,>=2.1.0->lightning) (3.20.0)\n",
            "Requirement already satisfied: sympy>=1.13.3 in /usr/local/lib/python3.12/dist-packages (from torch<4.0,>=2.1.0->lightning) (1.13.3)\n",
            "Requirement already satisfied: networkx in /usr/local/lib/python3.12/dist-packages (from torch<4.0,>=2.1.0->lightning) (3.5)\n",
            "Requirement already satisfied: jinja2 in /usr/local/lib/python3.12/dist-packages (from torch<4.0,>=2.1.0->lightning) (3.1.6)\n",
            "Requirement already satisfied: nvidia-cuda-nvrtc-cu12==12.6.77 in /usr/local/lib/python3.12/dist-packages (from torch<4.0,>=2.1.0->lightning) (12.6.77)\n",
            "Requirement already satisfied: nvidia-cuda-runtime-cu12==12.6.77 in /usr/local/lib/python3.12/dist-packages (from torch<4.0,>=2.1.0->lightning) (12.6.77)\n",
            "Requirement already satisfied: nvidia-cuda-cupti-cu12==12.6.80 in /usr/local/lib/python3.12/dist-packages (from torch<4.0,>=2.1.0->lightning) (12.6.80)\n",
            "Requirement already satisfied: nvidia-cudnn-cu12==9.10.2.21 in /usr/local/lib/python3.12/dist-packages (from torch<4.0,>=2.1.0->lightning) (9.10.2.21)\n",
            "Requirement already satisfied: nvidia-cublas-cu12==12.6.4.1 in /usr/local/lib/python3.12/dist-packages (from torch<4.0,>=2.1.0->lightning) (12.6.4.1)\n",
            "Requirement already satisfied: nvidia-cufft-cu12==11.3.0.4 in /usr/local/lib/python3.12/dist-packages (from torch<4.0,>=2.1.0->lightning) (11.3.0.4)\n",
            "Requirement already satisfied: nvidia-curand-cu12==10.3.7.77 in /usr/local/lib/python3.12/dist-packages (from torch<4.0,>=2.1.0->lightning) (10.3.7.77)\n",
            "Requirement already satisfied: nvidia-cusolver-cu12==11.7.1.2 in /usr/local/lib/python3.12/dist-packages (from torch<4.0,>=2.1.0->lightning) (11.7.1.2)\n",
            "Requirement already satisfied: nvidia-cusparse-cu12==12.5.4.2 in /usr/local/lib/python3.12/dist-packages (from torch<4.0,>=2.1.0->lightning) (12.5.4.2)\n",
            "Requirement already satisfied: nvidia-cusparselt-cu12==0.7.1 in /usr/local/lib/python3.12/dist-packages (from torch<4.0,>=2.1.0->lightning) (0.7.1)\n",
            "Requirement already satisfied: nvidia-nccl-cu12==2.27.3 in /usr/local/lib/python3.12/dist-packages (from torch<4.0,>=2.1.0->lightning) (2.27.3)\n",
            "Requirement already satisfied: nvidia-nvtx-cu12==12.6.77 in /usr/local/lib/python3.12/dist-packages (from torch<4.0,>=2.1.0->lightning) (12.6.77)\n",
            "Requirement already satisfied: nvidia-nvjitlink-cu12==12.6.85 in /usr/local/lib/python3.12/dist-packages (from torch<4.0,>=2.1.0->lightning) (12.6.85)\n",
            "Requirement already satisfied: nvidia-cufile-cu12==1.11.1.6 in /usr/local/lib/python3.12/dist-packages (from torch<4.0,>=2.1.0->lightning) (1.11.1.6)\n",
            "Requirement already satisfied: triton==3.4.0 in /usr/local/lib/python3.12/dist-packages (from torch<4.0,>=2.1.0->lightning) (3.4.0)\n",
            "Requirement already satisfied: aiohappyeyeballs>=2.5.0 in /usr/local/lib/python3.12/dist-packages (from aiohttp!=4.0.0a0,!=4.0.0a1->fsspec[http]<2027.0,>=2022.5.0->lightning) (2.6.1)\n",
            "Requirement already satisfied: aiosignal>=1.4.0 in /usr/local/lib/python3.12/dist-packages (from aiohttp!=4.0.0a0,!=4.0.0a1->fsspec[http]<2027.0,>=2022.5.0->lightning) (1.4.0)\n",
            "Requirement already satisfied: attrs>=17.3.0 in /usr/local/lib/python3.12/dist-packages (from aiohttp!=4.0.0a0,!=4.0.0a1->fsspec[http]<2027.0,>=2022.5.0->lightning) (25.4.0)\n",
            "Requirement already satisfied: frozenlist>=1.1.1 in /usr/local/lib/python3.12/dist-packages (from aiohttp!=4.0.0a0,!=4.0.0a1->fsspec[http]<2027.0,>=2022.5.0->lightning) (1.8.0)\n",
            "Requirement already satisfied: multidict<7.0,>=4.5 in /usr/local/lib/python3.12/dist-packages (from aiohttp!=4.0.0a0,!=4.0.0a1->fsspec[http]<2027.0,>=2022.5.0->lightning) (6.7.0)\n",
            "Requirement already satisfied: propcache>=0.2.0 in /usr/local/lib/python3.12/dist-packages (from aiohttp!=4.0.0a0,!=4.0.0a1->fsspec[http]<2027.0,>=2022.5.0->lightning) (0.3.2)\n",
            "Requirement already satisfied: yarl<2.0,>=1.17.0 in /usr/local/lib/python3.12/dist-packages (from aiohttp!=4.0.0a0,!=4.0.0a1->fsspec[http]<2027.0,>=2022.5.0->lightning) (1.22.0)\n",
            "Requirement already satisfied: mpmath<1.4,>=1.1.0 in /usr/local/lib/python3.12/dist-packages (from sympy>=1.13.3->torch<4.0,>=2.1.0->lightning) (1.3.0)\n",
            "Requirement already satisfied: MarkupSafe>=2.0 in /usr/local/lib/python3.12/dist-packages (from jinja2->torch<4.0,>=2.1.0->lightning) (3.0.3)\n",
            "Requirement already satisfied: idna>=2.0 in /usr/local/lib/python3.12/dist-packages (from yarl<2.0,>=1.17.0->aiohttp!=4.0.0a0,!=4.0.0a1->fsspec[http]<2027.0,>=2022.5.0->lightning) (3.10)\n",
            "Downloading lightning-2.5.5-py3-none-any.whl (828 kB)\n",
            "\u001b[2K   \u001b[90m━━━━━━━━━━━━━━━━━━━━━━━━━━━━━━━━━━━━━━━━\u001b[0m \u001b[32m828.5/828.5 kB\u001b[0m \u001b[31m29.1 MB/s\u001b[0m eta \u001b[36m0:00:00\u001b[0m\n",
            "\u001b[?25hDownloading torchmetrics-1.8.2-py3-none-any.whl (983 kB)\n",
            "\u001b[2K   \u001b[90m━━━━━━━━━━━━━━━━━━━━━━━━━━━━━━━━━━━━━━━━\u001b[0m \u001b[32m983.2/983.2 kB\u001b[0m \u001b[31m65.8 MB/s\u001b[0m eta \u001b[36m0:00:00\u001b[0m\n",
            "\u001b[?25hDownloading torchinfo-1.8.0-py3-none-any.whl (23 kB)\n",
            "Downloading lightning_utilities-0.15.2-py3-none-any.whl (29 kB)\n",
            "Downloading pytorch_lightning-2.5.5-py3-none-any.whl (832 kB)\n",
            "\u001b[2K   \u001b[90m━━━━━━━━━━━━━━━━━━━━━━━━━━━━━━━━━━━━━━━━\u001b[0m \u001b[32m832.4/832.4 kB\u001b[0m \u001b[31m67.0 MB/s\u001b[0m eta \u001b[36m0:00:00\u001b[0m\n",
            "\u001b[?25hInstalling collected packages: torchinfo, lightning-utilities, torchmetrics, pytorch-lightning, lightning\n",
            "Successfully installed lightning-2.5.5 lightning-utilities-0.15.2 pytorch-lightning-2.5.5 torchinfo-1.8.0 torchmetrics-1.8.2\n"
          ]
        }
      ],
      "source": [
        "! pip install lightning torchmetrics torchinfo"
      ]
    },
    {
      "cell_type": "markdown",
      "id": "ab76bdb8",
      "metadata": {
        "id": "ab76bdb8"
      },
      "source": [
        "3. Exécutez ce code pour supprimer quelques messages et avertissements éventuellement affichés."
      ]
    },
    {
      "cell_type": "code",
      "execution_count": 2,
      "id": "65832519",
      "metadata": {
        "id": "65832519"
      },
      "outputs": [],
      "source": [
        "import logging\n",
        "logging.getLogger(\"lightning\").setLevel(logging.ERROR)\n",
        "logging.getLogger(\"lightning.pytorch.utilities.rank_zero\").setLevel(logging.WARNING)\n",
        "logging.getLogger(\"lightning.pytorch.accelerators.cuda\").setLevel(logging.WARNING)\n",
        "logger = logging.getLogger(\"lightning\")\n",
        "logger.propagate = False\n",
        "\n",
        "import warnings\n",
        "warnings.filterwarnings(\"ignore\", \".*does not have many workers.*\")"
      ]
    },
    {
      "cell_type": "markdown",
      "id": "2682ff49",
      "metadata": {
        "id": "2682ff49"
      },
      "source": [
        "# *Inpainting* d'images masquées\n",
        "\n",
        "Dans ce notebook, vous allez travailler sur le jeu de données [MNIST](https://en.wikipedia.org/wiki/MNIST_database) constitué d'images de chiffres manuscrits.\n",
        "\n",
        "L'[*inpainting*](https://fr.wikipedia.org/wiki/Inpainting) consiste à reconstruire des images détériorées ou à remplir des parties manques des images.\n",
        "L'exemple ci-dessous est tiré de la page Wikipedia concernant l'*inpainting*.\n",
        "À gauche se trouve l'image détériorée et à droite se trouve l'image reconstruite.\n",
        "\n",
        "<img src=\"https://upload.wikimedia.org/wikipedia/commons/f/f8/Restoration.jpg\" width=800 />\n",
        "\n",
        "**L'objectif est de reconstruire les images à partir des images détériorées.**"
      ]
    },
    {
      "cell_type": "markdown",
      "id": "e88bf550",
      "metadata": {
        "id": "e88bf550"
      },
      "source": [
        "## Téléchargement et visualisation des données\n",
        "\n",
        "La fonction `load_dataset()` définie ci-dessous permet de télécharger le jeu de données."
      ]
    },
    {
      "cell_type": "code",
      "execution_count": 3,
      "id": "c683c4ae",
      "metadata": {
        "id": "c683c4ae"
      },
      "outputs": [],
      "source": [
        "import torch\n",
        "\n",
        "\n",
        "def load_dataset(train, path=\"data\"):\n",
        "    \"\"\"Charge le jeu de données.\n",
        "\n",
        "    Parameters\n",
        "    ----------\n",
        "    train : bool\n",
        "        Si True, renvoie le jeu d'entraînement. Sinon, renvoie le jeu de validation.\n",
        "\n",
        "    path : str\n",
        "        Chemin du répertoire où charger ou télécharger le jeu de données.\n",
        "\n",
        "    Returns\n",
        "    -------\n",
        "    X : Tensor, shape = (n_observations, 1, hauteur, largeur)\n",
        "        Images originales.\n",
        "    \"\"\"\n",
        "    from torchvision.datasets import MNIST\n",
        "\n",
        "    # Télécharge les données\n",
        "    dataset = MNIST(root=path, download=True, train=train)\n",
        "\n",
        "    # Formate le tenseur\n",
        "    X = torch.unsqueeze(dataset.data / 255, 1)\n",
        "\n",
        "    return X"
      ]
    },
    {
      "cell_type": "markdown",
      "id": "2e468f8c",
      "metadata": {
        "id": "2e468f8c"
      },
      "source": [
        "Il suffit d'appeler cette fonction pour récupérer les jeux d'entraînement et de validation."
      ]
    },
    {
      "cell_type": "code",
      "execution_count": 4,
      "id": "ae3857d4",
      "metadata": {
        "colab": {
          "base_uri": "https://localhost:8080/"
        },
        "id": "ae3857d4",
        "outputId": "80d98765-3d81-4f6b-a091-6d2449904ad9"
      },
      "outputs": [
        {
          "output_type": "stream",
          "name": "stderr",
          "text": [
            "100%|██████████| 9.91M/9.91M [00:00<00:00, 21.0MB/s]\n",
            "100%|██████████| 28.9k/28.9k [00:00<00:00, 510kB/s]\n",
            "100%|██████████| 1.65M/1.65M [00:00<00:00, 4.63MB/s]\n",
            "100%|██████████| 4.54k/4.54k [00:00<00:00, 10.5MB/s]\n"
          ]
        }
      ],
      "source": [
        "X_train_original = load_dataset(train=True)\n",
        "X_val_original = load_dataset(train=False)"
      ]
    },
    {
      "cell_type": "markdown",
      "id": "0fa02739",
      "metadata": {
        "id": "0fa02739"
      },
      "source": [
        "### Question 1\n",
        "\n",
        "Déterminez le nombre d'observations dans les jeux d'entraînement et de validation.\n",
        "Déterminez (par du code) la taille de chaque observation (on admettra que toutes les observations ont la même taille, il suffit donc de calculer la taille d'une seule observation)."
      ]
    },
    {
      "cell_type": "code",
      "execution_count": 7,
      "id": "ce817c01",
      "metadata": {
        "colab": {
          "base_uri": "https://localhost:8080/"
        },
        "id": "ce817c01",
        "outputId": "8a7e668a-b43e-4389-878c-c59df6ba8ac4"
      },
      "outputs": [
        {
          "output_type": "stream",
          "name": "stdout",
          "text": [
            "Le nombre d'observations du jeu d'entrainement est :  60000\n",
            "Le nombre d'observations du jeu de validation est :  10000\n",
            "La taille d'une observation est :  torch.Size([1, 28, 28])\n"
          ]
        }
      ],
      "source": [
        "# TODO\n",
        "print(f'Le nombre d\\'observations du jeu d\\'entrainement est :  {len(X_train_original)}')\n",
        "print(f'Le nombre d\\'observations du jeu de validation est :  {len(X_val_original)}')\n",
        "print(f'La taille d\\'une observation est :  {X_train_original[0].shape}')"
      ]
    },
    {
      "cell_type": "markdown",
      "id": "7e95f2fc",
      "metadata": {
        "id": "7e95f2fc"
      },
      "source": [
        "### Question 2\n",
        "\n",
        "Quelles sont les valeurs minimale et maximale des pixels sur le jeu d'entraînement ?"
      ]
    },
    {
      "cell_type": "code",
      "execution_count": 9,
      "id": "1bea2065",
      "metadata": {
        "colab": {
          "base_uri": "https://localhost:8080/"
        },
        "id": "1bea2065",
        "outputId": "580fb3e1-00b7-410b-bae6-8983b0aed52c"
      },
      "outputs": [
        {
          "output_type": "stream",
          "name": "stdout",
          "text": [
            "La valeur minimale des pixels sur le jeu d'entrainement est :  0.0\n",
            "La valeur maximale des pixels sur le jeu d'entrainement est :  1.0\n"
          ]
        }
      ],
      "source": [
        "# TODO\n",
        "print(f'La valeur minimale des pixels sur le jeu d\\'entrainement est :  {torch.min(X_train_original)}')\n",
        "print(f'La valeur maximale des pixels sur le jeu d\\'entrainement est :  {torch.max(X_train_original)}')"
      ]
    },
    {
      "cell_type": "markdown",
      "id": "36d2412f",
      "metadata": {
        "id": "36d2412f"
      },
      "source": [
        "Le jeu de données ne contient que les images originales (non-détériorées).\n",
        "Il va donc falloir implémenter notre propre technique de détérioration d'images.\n",
        "Nous allons implémenter quelque chose de simple : chaque pixel est remplacé, avec une probabilité $p$, par un pixel noir (c'est-à-dire un pixel dont la valeur est $0.0$).\n",
        "Une implémentation possible de cette approche est la suivante :\n",
        "\n",
        "1. Générer un tenseur de variables aléatoires uniformes sur l'intervalle $[0, 1]$ de la même forme que le tenseur d'entrées. Pour ce faire, vous pouvez utiliser la fonction [`torch.rand_like()`](https://docs.pytorch.org/docs/stable/generated/torch.rand_like.html).\n",
        "2. Transformer ce tenseur de variables aléatoires uniformes en un masque, c'est-à-dire un tenseur de booléens, indiquant quels éléments du tenseur d'entrée garder : les éléments gardés sont ceux dont la variable aléatoire uniforme est supérieure à $p$.\n",
        "3. Multiplier le tenseur d'entrées par le masque : les éléments pour lesquels le masque vaut `True` sont gardés, et les éléments pour lesquels le masque vaut `False` sont remplacés par $0$.\n",
        "\n",
        "\n",
        "La fonction `deteriorate_images()` définie ci-dessous permet d'effectuer cette détérioration.\n",
        "\n",
        "### Question 3\n",
        "\n",
        "Complétez le code manquant dans la fonction `deteriorate_images()`."
      ]
    },
    {
      "cell_type": "code",
      "execution_count": 10,
      "id": "327fd0d0",
      "metadata": {
        "id": "327fd0d0"
      },
      "outputs": [],
      "source": [
        "def deteriorate_images(images, p=0.5):\n",
        "    \"\"\"Détériore des images.\n",
        "\n",
        "    Parameters\n",
        "    ----------\n",
        "    images : Tensor, shape = (n_images, 1, hauteur, largeur)\n",
        "        Images originales.\n",
        "\n",
        "    p : float, default = 0.5\n",
        "        Probabilité de remplacer chaque pixel par un pixel noir.\n",
        "\n",
        "    Returns\n",
        "    -------\n",
        "    images_masked : Tensor, shape = (n_images, 1, hauteur, largeur)\n",
        "        Images détériorées.\n",
        "    \"\"\"\n",
        "    ### BEGIN TODO ###\n",
        "    tensor_random = torch.rand_like(images)\n",
        "    mask = tensor_random > p\n",
        "    images_masked = images * mask\n",
        "    ### END TODO\n",
        "    return images_masked"
      ]
    },
    {
      "cell_type": "markdown",
      "id": "3cd983f0",
      "metadata": {
        "id": "3cd983f0"
      },
      "source": [
        "On appelle maintenant la fonction `deteriorate_images()`, avec `p=0.5`, pour créer des images détériorées sur les jeux d'entraînement et de validation :"
      ]
    },
    {
      "cell_type": "code",
      "execution_count": 11,
      "id": "172b01bf",
      "metadata": {
        "id": "172b01bf"
      },
      "outputs": [],
      "source": [
        "X_train_deteriorated = deteriorate_images(X_train_original)\n",
        "X_val_deteriorated = deteriorate_images(X_val_original)"
      ]
    },
    {
      "cell_type": "markdown",
      "id": "a1505356",
      "metadata": {
        "id": "a1505356"
      },
      "source": [
        "La fonction `plot_original_and_deteriorated_images()` définie ci-dessous permet de visualiser cette opération : elle prend en entrée un lot d'images originales, applique la transformation et affiche les images originales et détériorées."
      ]
    },
    {
      "cell_type": "code",
      "execution_count": 12,
      "id": "0d9da5f0",
      "metadata": {
        "id": "0d9da5f0"
      },
      "outputs": [],
      "source": [
        "import matplotlib.pyplot as plt\n",
        "\n",
        "\n",
        "def plot_original_and_deteriorated_images(images_original, images_deteriorated):\n",
        "    \"\"\"Affiche les images originales et les images détériorées.\n",
        "\n",
        "    Parameters\n",
        "    ----------\n",
        "    images_original : Tensor, shape = (n_images, 1, hauteur, largeur)\n",
        "        Images originales.\n",
        "\n",
        "    images_deteriorated : Tensor, shape = (n_images, 1, hauteur, largeur)\n",
        "        Images détériorées.\n",
        "    \"\"\"\n",
        "    # Récupère le nombre d'images\n",
        "    n_images = images_original.shape[0]\n",
        "\n",
        "    # Initialise la figure\n",
        "    plt.figure(figsize=(6.5, 3 * n_images))\n",
        "\n",
        "    # Pour chaque ligne\n",
        "    for row in range(n_images):\n",
        "\n",
        "        # Affiche l'image originale\n",
        "        plt.subplot(n_images, 2, 1 + row * 2)\n",
        "        plt.imshow(images_original[row, 0], cmap=\"gray\", vmin=0.0, vmax=1.0)\n",
        "        plt.title(\"Image originale\")\n",
        "        plt.axis(\"off\");\n",
        "\n",
        "        # Affiche l'image détériorée\n",
        "        plt.subplot(n_images, 2, 2 + row * 2)\n",
        "        plt.imshow(images_deteriorated[row, 0], cmap=\"gray\", vmin=0.0, vmax=1.0)\n",
        "        plt.title(\"Image détériorée\")\n",
        "        plt.axis(\"off\");"
      ]
    },
    {
      "cell_type": "markdown",
      "id": "131c6b01",
      "metadata": {
        "id": "131c6b01"
      },
      "source": [
        "### Question 4\n",
        "\n",
        "Appelez la fonction `plot_original_and_deteriorated_images()` pour afficher quelques images originales et détériorées des jeux d'entraînement et de validation."
      ]
    },
    {
      "cell_type": "code",
      "source": [
        "X_train_original[0]"
      ],
      "metadata": {
        "colab": {
          "base_uri": "https://localhost:8080/"
        },
        "id": "aFrZqAbuOkHV",
        "outputId": "896b80d9-fb6d-45a7-fedf-2344a0001ce4"
      },
      "id": "aFrZqAbuOkHV",
      "execution_count": 16,
      "outputs": [
        {
          "output_type": "execute_result",
          "data": {
            "text/plain": [
              "tensor([[[0.0000, 0.0000, 0.0000, 0.0000, 0.0000, 0.0000, 0.0000, 0.0000,\n",
              "          0.0000, 0.0000, 0.0000, 0.0000, 0.0000, 0.0000, 0.0000, 0.0000,\n",
              "          0.0000, 0.0000, 0.0000, 0.0000, 0.0000, 0.0000, 0.0000, 0.0000,\n",
              "          0.0000, 0.0000, 0.0000, 0.0000],\n",
              "         [0.0000, 0.0000, 0.0000, 0.0000, 0.0000, 0.0000, 0.0000, 0.0000,\n",
              "          0.0000, 0.0000, 0.0000, 0.0000, 0.0000, 0.0000, 0.0000, 0.0000,\n",
              "          0.0000, 0.0000, 0.0000, 0.0000, 0.0000, 0.0000, 0.0000, 0.0000,\n",
              "          0.0000, 0.0000, 0.0000, 0.0000],\n",
              "         [0.0000, 0.0000, 0.0000, 0.0000, 0.0000, 0.0000, 0.0000, 0.0000,\n",
              "          0.0000, 0.0000, 0.0000, 0.0000, 0.0000, 0.0000, 0.0000, 0.0000,\n",
              "          0.0000, 0.0000, 0.0000, 0.0000, 0.0000, 0.0000, 0.0000, 0.0000,\n",
              "          0.0000, 0.0000, 0.0000, 0.0000],\n",
              "         [0.0000, 0.0000, 0.0000, 0.0000, 0.0000, 0.0000, 0.0000, 0.0000,\n",
              "          0.0000, 0.0000, 0.0000, 0.0000, 0.0000, 0.0000, 0.0000, 0.0000,\n",
              "          0.0000, 0.0000, 0.0000, 0.0000, 0.0000, 0.0000, 0.0000, 0.0000,\n",
              "          0.0000, 0.0000, 0.0000, 0.0000],\n",
              "         [0.0000, 0.0000, 0.0000, 0.0000, 0.0000, 0.0000, 0.0000, 0.0000,\n",
              "          0.0000, 0.0000, 0.0000, 0.0000, 0.0000, 0.0000, 0.0000, 0.0000,\n",
              "          0.0000, 0.0000, 0.0000, 0.0000, 0.0000, 0.0000, 0.0000, 0.0000,\n",
              "          0.0000, 0.0000, 0.0000, 0.0000],\n",
              "         [0.0000, 0.0000, 0.0000, 0.0000, 0.0000, 0.0000, 0.0000, 0.0000,\n",
              "          0.0000, 0.0000, 0.0000, 0.0000, 0.0118, 0.0706, 0.0706, 0.0706,\n",
              "          0.4941, 0.5333, 0.6863, 0.1020, 0.6510, 1.0000, 0.9686, 0.4980,\n",
              "          0.0000, 0.0000, 0.0000, 0.0000],\n",
              "         [0.0000, 0.0000, 0.0000, 0.0000, 0.0000, 0.0000, 0.0000, 0.0000,\n",
              "          0.1176, 0.1412, 0.3686, 0.6039, 0.6667, 0.9922, 0.9922, 0.9922,\n",
              "          0.9922, 0.9922, 0.8824, 0.6745, 0.9922, 0.9490, 0.7647, 0.2510,\n",
              "          0.0000, 0.0000, 0.0000, 0.0000],\n",
              "         [0.0000, 0.0000, 0.0000, 0.0000, 0.0000, 0.0000, 0.0000, 0.1922,\n",
              "          0.9333, 0.9922, 0.9922, 0.9922, 0.9922, 0.9922, 0.9922, 0.9922,\n",
              "          0.9922, 0.9843, 0.3647, 0.3216, 0.3216, 0.2196, 0.1529, 0.0000,\n",
              "          0.0000, 0.0000, 0.0000, 0.0000],\n",
              "         [0.0000, 0.0000, 0.0000, 0.0000, 0.0000, 0.0000, 0.0000, 0.0706,\n",
              "          0.8588, 0.9922, 0.9922, 0.9922, 0.9922, 0.9922, 0.7765, 0.7137,\n",
              "          0.9686, 0.9451, 0.0000, 0.0000, 0.0000, 0.0000, 0.0000, 0.0000,\n",
              "          0.0000, 0.0000, 0.0000, 0.0000],\n",
              "         [0.0000, 0.0000, 0.0000, 0.0000, 0.0000, 0.0000, 0.0000, 0.0000,\n",
              "          0.3137, 0.6118, 0.4196, 0.9922, 0.9922, 0.8039, 0.0431, 0.0000,\n",
              "          0.1686, 0.6039, 0.0000, 0.0000, 0.0000, 0.0000, 0.0000, 0.0000,\n",
              "          0.0000, 0.0000, 0.0000, 0.0000],\n",
              "         [0.0000, 0.0000, 0.0000, 0.0000, 0.0000, 0.0000, 0.0000, 0.0000,\n",
              "          0.0000, 0.0549, 0.0039, 0.6039, 0.9922, 0.3529, 0.0000, 0.0000,\n",
              "          0.0000, 0.0000, 0.0000, 0.0000, 0.0000, 0.0000, 0.0000, 0.0000,\n",
              "          0.0000, 0.0000, 0.0000, 0.0000],\n",
              "         [0.0000, 0.0000, 0.0000, 0.0000, 0.0000, 0.0000, 0.0000, 0.0000,\n",
              "          0.0000, 0.0000, 0.0000, 0.5451, 0.9922, 0.7451, 0.0078, 0.0000,\n",
              "          0.0000, 0.0000, 0.0000, 0.0000, 0.0000, 0.0000, 0.0000, 0.0000,\n",
              "          0.0000, 0.0000, 0.0000, 0.0000],\n",
              "         [0.0000, 0.0000, 0.0000, 0.0000, 0.0000, 0.0000, 0.0000, 0.0000,\n",
              "          0.0000, 0.0000, 0.0000, 0.0431, 0.7451, 0.9922, 0.2745, 0.0000,\n",
              "          0.0000, 0.0000, 0.0000, 0.0000, 0.0000, 0.0000, 0.0000, 0.0000,\n",
              "          0.0000, 0.0000, 0.0000, 0.0000],\n",
              "         [0.0000, 0.0000, 0.0000, 0.0000, 0.0000, 0.0000, 0.0000, 0.0000,\n",
              "          0.0000, 0.0000, 0.0000, 0.0000, 0.1373, 0.9451, 0.8824, 0.6275,\n",
              "          0.4235, 0.0039, 0.0000, 0.0000, 0.0000, 0.0000, 0.0000, 0.0000,\n",
              "          0.0000, 0.0000, 0.0000, 0.0000],\n",
              "         [0.0000, 0.0000, 0.0000, 0.0000, 0.0000, 0.0000, 0.0000, 0.0000,\n",
              "          0.0000, 0.0000, 0.0000, 0.0000, 0.0000, 0.3176, 0.9412, 0.9922,\n",
              "          0.9922, 0.4667, 0.0980, 0.0000, 0.0000, 0.0000, 0.0000, 0.0000,\n",
              "          0.0000, 0.0000, 0.0000, 0.0000],\n",
              "         [0.0000, 0.0000, 0.0000, 0.0000, 0.0000, 0.0000, 0.0000, 0.0000,\n",
              "          0.0000, 0.0000, 0.0000, 0.0000, 0.0000, 0.0000, 0.1765, 0.7294,\n",
              "          0.9922, 0.9922, 0.5882, 0.1059, 0.0000, 0.0000, 0.0000, 0.0000,\n",
              "          0.0000, 0.0000, 0.0000, 0.0000],\n",
              "         [0.0000, 0.0000, 0.0000, 0.0000, 0.0000, 0.0000, 0.0000, 0.0000,\n",
              "          0.0000, 0.0000, 0.0000, 0.0000, 0.0000, 0.0000, 0.0000, 0.0627,\n",
              "          0.3647, 0.9882, 0.9922, 0.7333, 0.0000, 0.0000, 0.0000, 0.0000,\n",
              "          0.0000, 0.0000, 0.0000, 0.0000],\n",
              "         [0.0000, 0.0000, 0.0000, 0.0000, 0.0000, 0.0000, 0.0000, 0.0000,\n",
              "          0.0000, 0.0000, 0.0000, 0.0000, 0.0000, 0.0000, 0.0000, 0.0000,\n",
              "          0.0000, 0.9765, 0.9922, 0.9765, 0.2510, 0.0000, 0.0000, 0.0000,\n",
              "          0.0000, 0.0000, 0.0000, 0.0000],\n",
              "         [0.0000, 0.0000, 0.0000, 0.0000, 0.0000, 0.0000, 0.0000, 0.0000,\n",
              "          0.0000, 0.0000, 0.0000, 0.0000, 0.0000, 0.0000, 0.1804, 0.5098,\n",
              "          0.7176, 0.9922, 0.9922, 0.8118, 0.0078, 0.0000, 0.0000, 0.0000,\n",
              "          0.0000, 0.0000, 0.0000, 0.0000],\n",
              "         [0.0000, 0.0000, 0.0000, 0.0000, 0.0000, 0.0000, 0.0000, 0.0000,\n",
              "          0.0000, 0.0000, 0.0000, 0.0000, 0.1529, 0.5804, 0.8980, 0.9922,\n",
              "          0.9922, 0.9922, 0.9804, 0.7137, 0.0000, 0.0000, 0.0000, 0.0000,\n",
              "          0.0000, 0.0000, 0.0000, 0.0000],\n",
              "         [0.0000, 0.0000, 0.0000, 0.0000, 0.0000, 0.0000, 0.0000, 0.0000,\n",
              "          0.0000, 0.0000, 0.0941, 0.4471, 0.8667, 0.9922, 0.9922, 0.9922,\n",
              "          0.9922, 0.7882, 0.3059, 0.0000, 0.0000, 0.0000, 0.0000, 0.0000,\n",
              "          0.0000, 0.0000, 0.0000, 0.0000],\n",
              "         [0.0000, 0.0000, 0.0000, 0.0000, 0.0000, 0.0000, 0.0000, 0.0000,\n",
              "          0.0902, 0.2588, 0.8353, 0.9922, 0.9922, 0.9922, 0.9922, 0.7765,\n",
              "          0.3176, 0.0078, 0.0000, 0.0000, 0.0000, 0.0000, 0.0000, 0.0000,\n",
              "          0.0000, 0.0000, 0.0000, 0.0000],\n",
              "         [0.0000, 0.0000, 0.0000, 0.0000, 0.0000, 0.0000, 0.0706, 0.6706,\n",
              "          0.8588, 0.9922, 0.9922, 0.9922, 0.9922, 0.7647, 0.3137, 0.0353,\n",
              "          0.0000, 0.0000, 0.0000, 0.0000, 0.0000, 0.0000, 0.0000, 0.0000,\n",
              "          0.0000, 0.0000, 0.0000, 0.0000],\n",
              "         [0.0000, 0.0000, 0.0000, 0.0000, 0.2157, 0.6745, 0.8863, 0.9922,\n",
              "          0.9922, 0.9922, 0.9922, 0.9569, 0.5216, 0.0431, 0.0000, 0.0000,\n",
              "          0.0000, 0.0000, 0.0000, 0.0000, 0.0000, 0.0000, 0.0000, 0.0000,\n",
              "          0.0000, 0.0000, 0.0000, 0.0000],\n",
              "         [0.0000, 0.0000, 0.0000, 0.0000, 0.5333, 0.9922, 0.9922, 0.9922,\n",
              "          0.8314, 0.5294, 0.5176, 0.0627, 0.0000, 0.0000, 0.0000, 0.0000,\n",
              "          0.0000, 0.0000, 0.0000, 0.0000, 0.0000, 0.0000, 0.0000, 0.0000,\n",
              "          0.0000, 0.0000, 0.0000, 0.0000],\n",
              "         [0.0000, 0.0000, 0.0000, 0.0000, 0.0000, 0.0000, 0.0000, 0.0000,\n",
              "          0.0000, 0.0000, 0.0000, 0.0000, 0.0000, 0.0000, 0.0000, 0.0000,\n",
              "          0.0000, 0.0000, 0.0000, 0.0000, 0.0000, 0.0000, 0.0000, 0.0000,\n",
              "          0.0000, 0.0000, 0.0000, 0.0000],\n",
              "         [0.0000, 0.0000, 0.0000, 0.0000, 0.0000, 0.0000, 0.0000, 0.0000,\n",
              "          0.0000, 0.0000, 0.0000, 0.0000, 0.0000, 0.0000, 0.0000, 0.0000,\n",
              "          0.0000, 0.0000, 0.0000, 0.0000, 0.0000, 0.0000, 0.0000, 0.0000,\n",
              "          0.0000, 0.0000, 0.0000, 0.0000],\n",
              "         [0.0000, 0.0000, 0.0000, 0.0000, 0.0000, 0.0000, 0.0000, 0.0000,\n",
              "          0.0000, 0.0000, 0.0000, 0.0000, 0.0000, 0.0000, 0.0000, 0.0000,\n",
              "          0.0000, 0.0000, 0.0000, 0.0000, 0.0000, 0.0000, 0.0000, 0.0000,\n",
              "          0.0000, 0.0000, 0.0000, 0.0000]]])"
            ]
          },
          "metadata": {},
          "execution_count": 16
        }
      ]
    },
    {
      "cell_type": "code",
      "source": [
        "X_train_deteriorated[0]"
      ],
      "metadata": {
        "colab": {
          "base_uri": "https://localhost:8080/"
        },
        "id": "sjKZ2U0YOtnz",
        "outputId": "9d346039-ee18-4ce5-9122-36e2a6f6f809"
      },
      "id": "sjKZ2U0YOtnz",
      "execution_count": 17,
      "outputs": [
        {
          "output_type": "execute_result",
          "data": {
            "text/plain": [
              "tensor([[[0.0000, 0.0000, 0.0000, 0.0000, 0.0000, 0.0000, 0.0000, 0.0000,\n",
              "          0.0000, 0.0000, 0.0000, 0.0000, 0.0000, 0.0000, 0.0000, 0.0000,\n",
              "          0.0000, 0.0000, 0.0000, 0.0000, 0.0000, 0.0000, 0.0000, 0.0000,\n",
              "          0.0000, 0.0000, 0.0000, 0.0000],\n",
              "         [0.0000, 0.0000, 0.0000, 0.0000, 0.0000, 0.0000, 0.0000, 0.0000,\n",
              "          0.0000, 0.0000, 0.0000, 0.0000, 0.0000, 0.0000, 0.0000, 0.0000,\n",
              "          0.0000, 0.0000, 0.0000, 0.0000, 0.0000, 0.0000, 0.0000, 0.0000,\n",
              "          0.0000, 0.0000, 0.0000, 0.0000],\n",
              "         [0.0000, 0.0000, 0.0000, 0.0000, 0.0000, 0.0000, 0.0000, 0.0000,\n",
              "          0.0000, 0.0000, 0.0000, 0.0000, 0.0000, 0.0000, 0.0000, 0.0000,\n",
              "          0.0000, 0.0000, 0.0000, 0.0000, 0.0000, 0.0000, 0.0000, 0.0000,\n",
              "          0.0000, 0.0000, 0.0000, 0.0000],\n",
              "         [0.0000, 0.0000, 0.0000, 0.0000, 0.0000, 0.0000, 0.0000, 0.0000,\n",
              "          0.0000, 0.0000, 0.0000, 0.0000, 0.0000, 0.0000, 0.0000, 0.0000,\n",
              "          0.0000, 0.0000, 0.0000, 0.0000, 0.0000, 0.0000, 0.0000, 0.0000,\n",
              "          0.0000, 0.0000, 0.0000, 0.0000],\n",
              "         [0.0000, 0.0000, 0.0000, 0.0000, 0.0000, 0.0000, 0.0000, 0.0000,\n",
              "          0.0000, 0.0000, 0.0000, 0.0000, 0.0000, 0.0000, 0.0000, 0.0000,\n",
              "          0.0000, 0.0000, 0.0000, 0.0000, 0.0000, 0.0000, 0.0000, 0.0000,\n",
              "          0.0000, 0.0000, 0.0000, 0.0000],\n",
              "         [0.0000, 0.0000, 0.0000, 0.0000, 0.0000, 0.0000, 0.0000, 0.0000,\n",
              "          0.0000, 0.0000, 0.0000, 0.0000, 0.0118, 0.0706, 0.0000, 0.0000,\n",
              "          0.0000, 0.5333, 0.6863, 0.1020, 0.6510, 0.0000, 0.0000, 0.0000,\n",
              "          0.0000, 0.0000, 0.0000, 0.0000],\n",
              "         [0.0000, 0.0000, 0.0000, 0.0000, 0.0000, 0.0000, 0.0000, 0.0000,\n",
              "          0.0000, 0.1412, 0.3686, 0.0000, 0.6667, 0.9922, 0.9922, 0.0000,\n",
              "          0.0000, 0.0000, 0.0000, 0.6745, 0.0000, 0.9490, 0.7647, 0.0000,\n",
              "          0.0000, 0.0000, 0.0000, 0.0000],\n",
              "         [0.0000, 0.0000, 0.0000, 0.0000, 0.0000, 0.0000, 0.0000, 0.0000,\n",
              "          0.9333, 0.0000, 0.9922, 0.9922, 0.0000, 0.9922, 0.0000, 0.0000,\n",
              "          0.0000, 0.0000, 0.0000, 0.3216, 0.3216, 0.0000, 0.0000, 0.0000,\n",
              "          0.0000, 0.0000, 0.0000, 0.0000],\n",
              "         [0.0000, 0.0000, 0.0000, 0.0000, 0.0000, 0.0000, 0.0000, 0.0000,\n",
              "          0.0000, 0.0000, 0.9922, 0.9922, 0.9922, 0.9922, 0.7765, 0.7137,\n",
              "          0.9686, 0.0000, 0.0000, 0.0000, 0.0000, 0.0000, 0.0000, 0.0000,\n",
              "          0.0000, 0.0000, 0.0000, 0.0000],\n",
              "         [0.0000, 0.0000, 0.0000, 0.0000, 0.0000, 0.0000, 0.0000, 0.0000,\n",
              "          0.0000, 0.6118, 0.0000, 0.0000, 0.9922, 0.0000, 0.0000, 0.0000,\n",
              "          0.1686, 0.0000, 0.0000, 0.0000, 0.0000, 0.0000, 0.0000, 0.0000,\n",
              "          0.0000, 0.0000, 0.0000, 0.0000],\n",
              "         [0.0000, 0.0000, 0.0000, 0.0000, 0.0000, 0.0000, 0.0000, 0.0000,\n",
              "          0.0000, 0.0549, 0.0039, 0.0000, 0.0000, 0.0000, 0.0000, 0.0000,\n",
              "          0.0000, 0.0000, 0.0000, 0.0000, 0.0000, 0.0000, 0.0000, 0.0000,\n",
              "          0.0000, 0.0000, 0.0000, 0.0000],\n",
              "         [0.0000, 0.0000, 0.0000, 0.0000, 0.0000, 0.0000, 0.0000, 0.0000,\n",
              "          0.0000, 0.0000, 0.0000, 0.5451, 0.0000, 0.7451, 0.0078, 0.0000,\n",
              "          0.0000, 0.0000, 0.0000, 0.0000, 0.0000, 0.0000, 0.0000, 0.0000,\n",
              "          0.0000, 0.0000, 0.0000, 0.0000],\n",
              "         [0.0000, 0.0000, 0.0000, 0.0000, 0.0000, 0.0000, 0.0000, 0.0000,\n",
              "          0.0000, 0.0000, 0.0000, 0.0431, 0.7451, 0.9922, 0.2745, 0.0000,\n",
              "          0.0000, 0.0000, 0.0000, 0.0000, 0.0000, 0.0000, 0.0000, 0.0000,\n",
              "          0.0000, 0.0000, 0.0000, 0.0000],\n",
              "         [0.0000, 0.0000, 0.0000, 0.0000, 0.0000, 0.0000, 0.0000, 0.0000,\n",
              "          0.0000, 0.0000, 0.0000, 0.0000, 0.0000, 0.0000, 0.0000, 0.0000,\n",
              "          0.4235, 0.0000, 0.0000, 0.0000, 0.0000, 0.0000, 0.0000, 0.0000,\n",
              "          0.0000, 0.0000, 0.0000, 0.0000],\n",
              "         [0.0000, 0.0000, 0.0000, 0.0000, 0.0000, 0.0000, 0.0000, 0.0000,\n",
              "          0.0000, 0.0000, 0.0000, 0.0000, 0.0000, 0.3176, 0.0000, 0.0000,\n",
              "          0.0000, 0.0000, 0.0000, 0.0000, 0.0000, 0.0000, 0.0000, 0.0000,\n",
              "          0.0000, 0.0000, 0.0000, 0.0000],\n",
              "         [0.0000, 0.0000, 0.0000, 0.0000, 0.0000, 0.0000, 0.0000, 0.0000,\n",
              "          0.0000, 0.0000, 0.0000, 0.0000, 0.0000, 0.0000, 0.1765, 0.0000,\n",
              "          0.9922, 0.0000, 0.0000, 0.0000, 0.0000, 0.0000, 0.0000, 0.0000,\n",
              "          0.0000, 0.0000, 0.0000, 0.0000],\n",
              "         [0.0000, 0.0000, 0.0000, 0.0000, 0.0000, 0.0000, 0.0000, 0.0000,\n",
              "          0.0000, 0.0000, 0.0000, 0.0000, 0.0000, 0.0000, 0.0000, 0.0000,\n",
              "          0.3647, 0.9882, 0.9922, 0.0000, 0.0000, 0.0000, 0.0000, 0.0000,\n",
              "          0.0000, 0.0000, 0.0000, 0.0000],\n",
              "         [0.0000, 0.0000, 0.0000, 0.0000, 0.0000, 0.0000, 0.0000, 0.0000,\n",
              "          0.0000, 0.0000, 0.0000, 0.0000, 0.0000, 0.0000, 0.0000, 0.0000,\n",
              "          0.0000, 0.0000, 0.0000, 0.0000, 0.0000, 0.0000, 0.0000, 0.0000,\n",
              "          0.0000, 0.0000, 0.0000, 0.0000],\n",
              "         [0.0000, 0.0000, 0.0000, 0.0000, 0.0000, 0.0000, 0.0000, 0.0000,\n",
              "          0.0000, 0.0000, 0.0000, 0.0000, 0.0000, 0.0000, 0.1804, 0.0000,\n",
              "          0.7176, 0.0000, 0.9922, 0.8118, 0.0000, 0.0000, 0.0000, 0.0000,\n",
              "          0.0000, 0.0000, 0.0000, 0.0000],\n",
              "         [0.0000, 0.0000, 0.0000, 0.0000, 0.0000, 0.0000, 0.0000, 0.0000,\n",
              "          0.0000, 0.0000, 0.0000, 0.0000, 0.0000, 0.0000, 0.0000, 0.9922,\n",
              "          0.9922, 0.0000, 0.9804, 0.0000, 0.0000, 0.0000, 0.0000, 0.0000,\n",
              "          0.0000, 0.0000, 0.0000, 0.0000],\n",
              "         [0.0000, 0.0000, 0.0000, 0.0000, 0.0000, 0.0000, 0.0000, 0.0000,\n",
              "          0.0000, 0.0000, 0.0941, 0.4471, 0.8667, 0.0000, 0.0000, 0.0000,\n",
              "          0.0000, 0.0000, 0.0000, 0.0000, 0.0000, 0.0000, 0.0000, 0.0000,\n",
              "          0.0000, 0.0000, 0.0000, 0.0000],\n",
              "         [0.0000, 0.0000, 0.0000, 0.0000, 0.0000, 0.0000, 0.0000, 0.0000,\n",
              "          0.0000, 0.2588, 0.8353, 0.9922, 0.9922, 0.9922, 0.0000, 0.0000,\n",
              "          0.0000, 0.0078, 0.0000, 0.0000, 0.0000, 0.0000, 0.0000, 0.0000,\n",
              "          0.0000, 0.0000, 0.0000, 0.0000],\n",
              "         [0.0000, 0.0000, 0.0000, 0.0000, 0.0000, 0.0000, 0.0000, 0.0000,\n",
              "          0.0000, 0.0000, 0.0000, 0.9922, 0.9922, 0.7647, 0.3137, 0.0000,\n",
              "          0.0000, 0.0000, 0.0000, 0.0000, 0.0000, 0.0000, 0.0000, 0.0000,\n",
              "          0.0000, 0.0000, 0.0000, 0.0000],\n",
              "         [0.0000, 0.0000, 0.0000, 0.0000, 0.0000, 0.0000, 0.0000, 0.0000,\n",
              "          0.9922, 0.9922, 0.0000, 0.9569, 0.5216, 0.0431, 0.0000, 0.0000,\n",
              "          0.0000, 0.0000, 0.0000, 0.0000, 0.0000, 0.0000, 0.0000, 0.0000,\n",
              "          0.0000, 0.0000, 0.0000, 0.0000],\n",
              "         [0.0000, 0.0000, 0.0000, 0.0000, 0.0000, 0.0000, 0.9922, 0.9922,\n",
              "          0.8314, 0.5294, 0.0000, 0.0627, 0.0000, 0.0000, 0.0000, 0.0000,\n",
              "          0.0000, 0.0000, 0.0000, 0.0000, 0.0000, 0.0000, 0.0000, 0.0000,\n",
              "          0.0000, 0.0000, 0.0000, 0.0000],\n",
              "         [0.0000, 0.0000, 0.0000, 0.0000, 0.0000, 0.0000, 0.0000, 0.0000,\n",
              "          0.0000, 0.0000, 0.0000, 0.0000, 0.0000, 0.0000, 0.0000, 0.0000,\n",
              "          0.0000, 0.0000, 0.0000, 0.0000, 0.0000, 0.0000, 0.0000, 0.0000,\n",
              "          0.0000, 0.0000, 0.0000, 0.0000],\n",
              "         [0.0000, 0.0000, 0.0000, 0.0000, 0.0000, 0.0000, 0.0000, 0.0000,\n",
              "          0.0000, 0.0000, 0.0000, 0.0000, 0.0000, 0.0000, 0.0000, 0.0000,\n",
              "          0.0000, 0.0000, 0.0000, 0.0000, 0.0000, 0.0000, 0.0000, 0.0000,\n",
              "          0.0000, 0.0000, 0.0000, 0.0000],\n",
              "         [0.0000, 0.0000, 0.0000, 0.0000, 0.0000, 0.0000, 0.0000, 0.0000,\n",
              "          0.0000, 0.0000, 0.0000, 0.0000, 0.0000, 0.0000, 0.0000, 0.0000,\n",
              "          0.0000, 0.0000, 0.0000, 0.0000, 0.0000, 0.0000, 0.0000, 0.0000,\n",
              "          0.0000, 0.0000, 0.0000, 0.0000]]])"
            ]
          },
          "metadata": {},
          "execution_count": 17
        }
      ]
    },
    {
      "cell_type": "code",
      "execution_count": 21,
      "id": "d7097f84",
      "metadata": {
        "colab": {
          "base_uri": "https://localhost:8080/",
          "height": 288
        },
        "id": "d7097f84",
        "outputId": "58e93460-6ba1-4212-dd42-ff5b5e9ef7ec"
      },
      "outputs": [
        {
          "output_type": "display_data",
          "data": {
            "text/plain": [
              "<Figure size 650x300 with 2 Axes>"
            ],
            "image/png": "[encoded data removed]"
          },
          "metadata": {}
        }
      ],
      "source": [
        "# TODO\n",
        "plot_original_and_deteriorated_images(X_train_original[0].unsqueeze(0), X_train_deteriorated[0].unsqueeze(0))"
      ]
    },
    {
      "cell_type": "code",
      "execution_count": 22,
      "id": "6c3a40f6",
      "metadata": {
        "colab": {
          "base_uri": "https://localhost:8080/",
          "height": 288
        },
        "id": "6c3a40f6",
        "outputId": "88653de5-24a9-44c2-e14c-153f2fbcba1f"
      },
      "outputs": [
        {
          "output_type": "display_data",
          "data": {
            "text/plain": [
              "<Figure size 650x300 with 2 Axes>"
            ],
            "image/png": "[encoded data removed]"
          },
          "metadata": {}
        }
      ],
      "source": [
        "# TODO\n",
        "# TODO\n",
        "plot_original_and_deteriorated_images(X_train_original[5].unsqueeze(0), X_train_deteriorated[5].unsqueeze(0))"
      ]
    },
    {
      "cell_type": "markdown",
      "id": "c0239ca9",
      "metadata": {
        "id": "c0239ca9"
      },
      "source": [
        "Nous allons évaluer la performance des modèles avec l’erreur quadratique moyenne (*mean squared error*) :\n",
        "$$\n",
        "  \\text{MSE} = \\frac{1}{n H W} \\sum_{i=1}^n \\sum_{j=1}^H \\sum_{k=1}^W \\left( X_{i, j, k} - \\hat{X}_{i, j, k} \\right)^2\n",
        "$$\n",
        "où $n$ est le nombre d'images, $H$ est la hauteur (c'est-à-dire le nombre de lignes) et $W$ est la largeur (c'est-à-dire le nombre de colonnes).\n",
        "\n",
        "\n",
        "Un modèle vraiment trivial consiste à ne prédire que des images noires (c'est-à-dire dont tous les pixels sont égaux à $0.0$) :\n",
        "$$\n",
        "    \\forall i, j, k, \\; \\hat{X}_{i, j, k} = 0.0\n",
        "$$\n",
        "\n",
        "### Question 5\n",
        "\n",
        "Calculez les erreurs quadratiques moyennes sur les jeux d'entraînement et de validation pour cette approche. On rappelle que :\n",
        "\n",
        "* l'opérateur *puissance* en Python s'obtient avec deux étoiles : `2.0 ** 3` veut dire $2.0^3$ ; cet opérateur fonctionne également sur les tenseurs et applique la puissance à chaque élément du tenseur ;\n",
        "* on peut calculer la valeur moyenne d'un tenseur avec la méthode [`torch.Tensor.mean()`](https://docs.pytorch.org/docs/stable/generated/torch.Tensor.mean.html) ou la fonction [`torch.mean()`](https://docs.pytorch.org/docs/stable/generated/torch.mean.html)."
      ]
    },
    {
      "cell_type": "code",
      "execution_count": 26,
      "id": "70b6ad63",
      "metadata": {
        "colab": {
          "base_uri": "https://localhost:8080/"
        },
        "id": "70b6ad63",
        "outputId": "a9336290-2aa2-4d2a-daf2-8b75a9391d31"
      },
      "outputs": [
        {
          "output_type": "stream",
          "name": "stdout",
          "text": [
            "MSE sur le jeu d'entrainement : 0.11200257390737534\n",
            "MSE sur le jeu de validation : 0.11395809799432755\n"
          ]
        }
      ],
      "source": [
        "# TODO\n",
        "mse_train = torch.mean(X_train_original**2)\n",
        "mse_val = torch.mean(X_val_original**2)\n",
        "print(f'MSE sur le jeu d\\'entrainement : {mse_train}')\n",
        "print(f'MSE sur le jeu de validation : {mse_val}')"
      ]
    },
    {
      "cell_type": "markdown",
      "id": "0dc07489",
      "metadata": {
        "id": "0dc07489"
      },
      "source": [
        "Un autre modèle trivial consiste à garder les images détériorées telles quelles.\n",
        "\n",
        "### Question 6\n",
        "\n",
        "Calculez les erreurs quadratiques moyennes sur les jeux d'entraînement et de validation pour cette approche."
      ]
    },
    {
      "cell_type": "code",
      "execution_count": 34,
      "id": "56738060",
      "metadata": {
        "colab": {
          "base_uri": "https://localhost:8080/"
        },
        "id": "56738060",
        "outputId": "594aea14-d289-4dd2-eb54-b9347b654776"
      },
      "outputs": [
        {
          "output_type": "stream",
          "name": "stdout",
          "text": [
            "MSE sur le jeu d'entrainement des images détériorées : 0.0560038685798645\n",
            "MSE sur le jeu de validation des images détériorées : 0.05698854476213455\n"
          ]
        }
      ],
      "source": [
        "# TODO\n",
        "mse_deteriorated_train = torch.mean((X_train_original - X_train_deteriorated)**2)\n",
        "mse_deteriorated_val = torch.mean((X_val_original - X_val_deteriorated)**2)\n",
        "\n",
        "\n",
        "print(f'MSE sur le jeu d\\'entrainement des images détériorées : {mse_deteriorated_train}')\n",
        "print(f'MSE sur le jeu de validation des images détériorées : {mse_deteriorated_val}')"
      ]
    },
    {
      "cell_type": "code",
      "source": [
        "import torch.nn as nn\n",
        "\n",
        "criterion = nn.MSELoss()  # on crée l'instance\n",
        "\n",
        "mse_train2 = criterion(X_train_deteriorated, X_train_original)\n",
        "print(f'MSE sur le jeu d\\'entrainement : {mse_train2}')\n",
        "mse_val2 = criterion(X_val_deteriorated, X_val_original)\n",
        "print(f'MSE sur le jeu de validation : {mse_val2}')"
      ],
      "metadata": {
        "colab": {
          "base_uri": "https://localhost:8080/"
        },
        "id": "D0mRUvsHUNxf",
        "outputId": "62289dac-cdac-4d28-e55e-cc3004a74ca2"
      },
      "id": "D0mRUvsHUNxf",
      "execution_count": 36,
      "outputs": [
        {
          "output_type": "stream",
          "name": "stdout",
          "text": [
            "MSE sur le jeu d'entrainement : 0.0560038685798645\n",
            "MSE sur le jeu de validation : 0.05698854476213455\n"
          ]
        }
      ]
    },
    {
      "cell_type": "markdown",
      "id": "e91a1e1c",
      "metadata": {
        "id": "e91a1e1c"
      },
      "source": [
        "Avant d'entraîner un réseau de neurones, nous allons essayons une approche simple.\n",
        "Nous allons utiliser un noyau de floutage uniforme : on remplace la valeur de chaque pixel par la moyenne uniforme de son pixel et de ses pixels voisins.\n",
        "La fonction `box_blur_convolution()` définie ci-dessous implémente cette approche."
      ]
    },
    {
      "cell_type": "code",
      "execution_count": 28,
      "id": "708dabf5",
      "metadata": {
        "id": "708dabf5"
      },
      "outputs": [],
      "source": [
        "def box_blur_convolution(images_deteriorated, kernel_size=3):\n",
        "    \"\"\"\n",
        "\n",
        "    Parameters\n",
        "    ----------\n",
        "    images_deteriorated : Tensor, shape = (n_images, 1, hauteur, largeur)\n",
        "        Images détériorées.\n",
        "\n",
        "    kernel_size : int, default = 3\n",
        "        Taille du noyau. Doit être un entier impair supérieur ou égal à 3.\n",
        "\n",
        "    Returns\n",
        "    -------\n",
        "    images_convolved : Tensor, shape = (n_images, 1, hauteur, largeur)\n",
        "\n",
        "    \"\"\"\n",
        "    if not (isinstance(kernel_size, int) and (kernel_size > 2) and (kernel_size % 2 == 1)):\n",
        "        raise ValueError(\"'kernel_size' doit être un entier impair supérieur ou égal à 3.\")\n",
        "\n",
        "    kernel = torch.ones(1, 1, kernel_size, kernel_size) / kernel_size ** 2\n",
        "    conv = torch.nn.Conv2d(1, 1, kernel_size, padding=\"same\", bias=False)\n",
        "    conv.weight = torch.nn.Parameter(kernel, requires_grad=False)\n",
        "    images_convolved = conv(images_deteriorated)\n",
        "    return images_convolved"
      ]
    },
    {
      "cell_type": "markdown",
      "id": "1d14bd30",
      "metadata": {
        "id": "1d14bd30"
      },
      "source": [
        "On appelle cette fonction pour appliquer la transformation sur les jeux d'entraînement et de validation :"
      ]
    },
    {
      "cell_type": "code",
      "execution_count": 29,
      "id": "735cbf90",
      "metadata": {
        "id": "735cbf90"
      },
      "outputs": [],
      "source": [
        "X_train_reconstructed = box_blur_convolution(X_train_deteriorated)\n",
        "X_val_reconstructed = box_blur_convolution(X_val_deteriorated)"
      ]
    },
    {
      "cell_type": "markdown",
      "id": "3669bae6",
      "metadata": {
        "id": "3669bae6"
      },
      "source": [
        "### Question 7\n",
        "\n",
        "Calculez les erreurs quadratiques moyennes sur ces deux jeux."
      ]
    },
    {
      "cell_type": "code",
      "execution_count": 42,
      "id": "36358da4",
      "metadata": {
        "colab": {
          "base_uri": "https://localhost:8080/"
        },
        "id": "36358da4",
        "outputId": "e2de7b76-582d-4ecf-e001-036804898f56"
      },
      "outputs": [
        {
          "output_type": "stream",
          "name": "stdout",
          "text": [
            "MSE sur le jeu d'entrainement : 0.04470924660563469\n",
            "MSE sur le jeu de validation : 0.04513917490839958\n"
          ]
        }
      ],
      "source": [
        "import torch.nn as nn\n",
        "\n",
        "criterion = nn.MSELoss()  # on crée l'instance\n",
        "\n",
        "mse_train2 = criterion(X_train_reconstructed, X_train_original)\n",
        "print(f'MSE sur le jeu d\\'entrainement : {mse_train2}')\n",
        "mse_val2 = criterion(X_val_reconstructed, X_val_original)\n",
        "print(f'MSE sur le jeu de validation : {mse_val2}')"
      ]
    },
    {
      "cell_type": "markdown",
      "id": "4f7e2343",
      "metadata": {
        "id": "4f7e2343"
      },
      "source": [
        "On définit la fonction `plot_original_deteriorated_reconstructed_images()` pour afficher des images originales, des images détériorées et des images reconstruites."
      ]
    },
    {
      "cell_type": "code",
      "execution_count": 43,
      "id": "61caab50",
      "metadata": {
        "scrolled": true,
        "id": "61caab50"
      },
      "outputs": [],
      "source": [
        "def plot_original_deteriorated_reconstructed_images(\n",
        "    images_original, images_deteriorated, images_reconstructed\n",
        "):\n",
        "    \"\"\"Affiche les images originales, les images détériorées et les images reconstruites.\n",
        "\n",
        "    Parameters\n",
        "    ----------\n",
        "    images_original : Tensor, shape = (n_images, 1, hauteur, largeur)\n",
        "        Images originales.\n",
        "\n",
        "    images_deteriorated : Tensor, shape = (n_images, 1, hauteur, largeur)\n",
        "        Images détériorées.\n",
        "\n",
        "    images_reconstructed : Tensor, shape = (n_images, 1, hauteur, largeur)\n",
        "        Images reconstruites.\n",
        "    \"\"\"\n",
        "    # Récupère le nombre d'images\n",
        "    n_images = images_original.shape[0]\n",
        "\n",
        "    # Initialise la figure\n",
        "    plt.figure(figsize=(6.5, 3 * n_images))\n",
        "\n",
        "    # Pour chaque ligne\n",
        "    for row in range(n_images):\n",
        "\n",
        "        # Affiche l'image originale\n",
        "        plt.subplot(n_images, 3, 1 + row * 3)\n",
        "        plt.imshow(images_original[row, 0], cmap=\"gray\", vmin=0.0, vmax=1.0)\n",
        "        plt.title(\"Image originale\")\n",
        "        plt.axis(\"off\");\n",
        "\n",
        "        # Affiche l'image détériorée\n",
        "        plt.subplot(n_images, 3, 2 + row * 3)\n",
        "        plt.imshow(images_deteriorated[row, 0], cmap=\"gray\", vmin=0.0, vmax=1.0)\n",
        "        plt.title(\"Image détériorée\")\n",
        "        plt.axis(\"off\");\n",
        "\n",
        "        # Affiche l'image reconstruite\n",
        "        plt.subplot(n_images, 3, 3 + row * 3)\n",
        "        plt.imshow(images_reconstructed[row, 0], cmap=\"gray\", vmin=0.0, vmax=1.0)\n",
        "        plt.title(\"Image reconstruite\")\n",
        "        plt.axis(\"off\");"
      ]
    },
    {
      "cell_type": "markdown",
      "id": "b5f57bf5",
      "metadata": {
        "id": "b5f57bf5"
      },
      "source": [
        "### Question 8\n",
        "\n",
        "Appelez la fonction `plot_original_deteriorated_reconstructed_images()` pour afficher des images originales, des images détériorées et des images reconstruites sur le jeu de validation. Que constatez-vous ?"
      ]
    },
    {
      "cell_type": "code",
      "execution_count": 44,
      "id": "67b1c6e1",
      "metadata": {
        "colab": {
          "base_uri": "https://localhost:8080/",
          "height": 207
        },
        "id": "67b1c6e1",
        "outputId": "61d0e9d6-822e-44a9-face-65fc1bb67114"
      },
      "outputs": [
        {
          "output_type": "display_data",
          "data": {
            "text/plain": [
              "<Figure size 650x300 with 3 Axes>"
            ],
            "image/png": "[encoded data removed]"
          },
          "metadata": {}
        }
      ],
      "source": [
        "# TODO\n",
        "plot_original_deteriorated_reconstructed_images(X_val_original[0].unsqueeze(0), X_val_deteriorated[0].unsqueeze(0), X_val_reconstructed[0].unsqueeze(0))"
      ]
    },
    {
      "cell_type": "markdown",
      "id": "ac82ddf9",
      "metadata": {
        "id": "ac82ddf9"
      },
      "source": [
        "[texte du lien](https:// [texte du lien](https://))**Réponse** : TODO\n"
      ]
    },
    {
      "cell_type": "markdown",
      "source": [
        "On constate que les images les images sont de plus en plus floues. La distribution de pixels après chaque transformation diminue."
      ],
      "metadata": {
        "id": "ejikjcXvWWJ0"
      },
      "id": "ejikjcXvWWJ0"
    },
    {
      "cell_type": "markdown",
      "id": "c9acd310",
      "metadata": {
        "id": "c9acd310"
      },
      "source": [
        "### Question 9\n",
        "\n",
        "Pour confirmer votre réponse à la question précédente, affichez la distribution des pixels des images originales d'une part et des images reconstruites d'autre part, sur le jeu d'entraînement.\n",
        "Vous pouvez utiliser la fonction [`matplotlib.pyplot.hist()`](https://matplotlib.org/stable/api/_as_gen/matplotlib.pyplot.hist.html)."
      ]
    },
    {
      "cell_type": "code",
      "execution_count": 50,
      "id": "26c0f77b",
      "metadata": {
        "colab": {
          "base_uri": "https://localhost:8080/",
          "height": 507
        },
        "id": "26c0f77b",
        "outputId": "54c559fa-4b96-4093-b6f5-469dbe9417bb"
      },
      "outputs": [
        {
          "output_type": "display_data",
          "data": {
            "text/plain": [
              "<Figure size 1200x500 with 2 Axes>"
            ],
            "image/png": "[encoded data removed]"
          },
          "metadata": {}
        }
      ],
      "source": [
        "# TODO\n",
        "\n",
        "\n",
        "import matplotlib.pyplot as plt\n",
        "import torch\n",
        "\n",
        "# Création d'une figure avec 2 sous-graphiques côte à côte\n",
        "fig, axes = plt.subplots(1, 2, figsize=(12, 5))\n",
        "\n",
        "# Distribution des images originales\n",
        "axes[0].hist(X_train_original.flatten().numpy(), bins=50, color='skyblue', edgecolor='black')\n",
        "axes[0].set_title(\"Distribution - Images originales\", fontsize=12)\n",
        "axes[0].set_xlabel(\"Valeur du pixel\", fontsize=10)\n",
        "axes[0].set_ylabel(\"Fréquence\", fontsize=10)\n",
        "axes[0].grid(alpha=0.3)\n",
        "\n",
        "# Distribution des images détériorées\n",
        "axes[1].hist(X_train_reconstructed.flatten().numpy(), bins=50, color='salmon', edgecolor='black')\n",
        "axes[1].set_title(\"Distribution - Images reconstruites\", fontsize=12)\n",
        "axes[1].set_xlabel(\"Valeur du pixel\", fontsize=10)\n",
        "axes[1].set_ylabel(\"Fréquence\", fontsize=10)\n",
        "axes[1].grid(alpha=0.3)\n",
        "\n",
        "# Espacement harmonieux\n",
        "plt.tight_layout()\n",
        "plt.show()\n",
        "\n",
        "\n"
      ]
    },
    {
      "cell_type": "markdown",
      "id": "484ae9d2",
      "metadata": {
        "id": "484ae9d2"
      },
      "source": [
        "Pour essayer de remédier à ce problème, nous allons normaliser les images pour que la valeur maximale des pixels de chaque image reconstruite soit égale à $1.0$. Pour ce faire, on va simplement diviser chaque pixel d'une image reconstruite par la valeur maximale des pixels de cette image reconsruite.\n",
        "\n",
        "### Question 10\n",
        "\n",
        "1. Appliquez cette transformation aux images reconstruites des jeux d'entraînement et d'évaluation.\n",
        "2. Affichez la nouvelle distribution des pixels sur le jeu d'entraînement.\n",
        "3. Affichez quelques images reconstruites normalisées sur le jeu de validation avec la fonction `plot_original_deteriorated_reconstructed_images()`.\n",
        "4. Calculez les erreurs quadratiques moyennes sur les deux jeux.\n",
        "5. Commentez les résultats obtenus.\n",
        "\n",
        "Pour répondre à la première question, vous pouvez utiliser la fonction [`torch.amax()`](https://docs.pytorch.org/docs/stable/generated/torch.amax.html) ou la méthode [`torch.Tensor.amax()`](https://docs.pytorch.org/docs/stable/generated/torch.Tensor.amax.html).\n",
        "Lisez la documentation, notamment pour les paramètres `dim` et `keepdim`.\n",
        "Il est possible de répondre à la question sans boucle `for` grâce au [*broadcasting*](https://docs.pytorch.org/docs/stable/notes/broadcasting.html)."
      ]
    },
    {
      "cell_type": "code",
      "execution_count": 61,
      "id": "c7bf3c52",
      "metadata": {
        "id": "c7bf3c52"
      },
      "outputs": [],
      "source": [
        "# TODO\n",
        "train_max_values = torch.amax(X_train_reconstructed, dim=(2, 3), keepdim=True)\n",
        "X_train_reconstructed_normalized = X_train_reconstructed / train_max_values\n",
        "val_max_values = torch.amax(X_val_reconstructed, dim=(2, 3), keepdim=True)\n",
        "X_val_reconstructed_normalized = X_val_reconstructed / val_max_values"
      ]
    },
    {
      "cell_type": "code",
      "execution_count": 59,
      "id": "983d9d3c",
      "metadata": {
        "colab": {
          "base_uri": "https://localhost:8080/",
          "height": 489
        },
        "id": "983d9d3c",
        "outputId": "590fe152-6a99-486a-991d-23f65316fc66"
      },
      "outputs": [
        {
          "output_type": "execute_result",
          "data": {
            "text/plain": [
              "Text(0, 0.5, 'Fréquence')"
            ]
          },
          "metadata": {},
          "execution_count": 59
        },
        {
          "output_type": "display_data",
          "data": {
            "text/plain": [
              "<Figure size 640x480 with 1 Axes>"
            ],
            "image/png": "[encoded data removed]"
          },
          "metadata": {}
        }
      ],
      "source": [
        "# TODO\n",
        "\n",
        "plt.hist(X_train_reconstructed_normalized.flatten().numpy(), bins=50, color='salmon', edgecolor='black')\n",
        "plt.title(\"Distribution - Images reconstruites normalisées\", fontsize=12)\n",
        "plt.xlabel(\"Valeur du pixel\", fontsize=10)\n",
        "plt.ylabel(\"Fréquence\", fontsize=10)"
      ]
    },
    {
      "cell_type": "code",
      "execution_count": null,
      "id": "6dc978bb",
      "metadata": {
        "id": "6dc978bb"
      },
      "outputs": [],
      "source": [
        "# TODO"
      ]
    },
    {
      "cell_type": "code",
      "source": [
        "mse_train2 = criterion(X_train_reconstructed_normalized, X_train_original)\n",
        "print(f'MSE sur le jeu d\\'entrainement : {mse_train2}')\n",
        "mse_val2 = criterion(X_val_reconstructed_normalized, X_val_original)\n",
        "print(f'MSE sur le jeu de validation : {mse_val2}')"
      ],
      "metadata": {
        "colab": {
          "base_uri": "https://localhost:8080/"
        },
        "id": "Wd18aFlcZr7H",
        "outputId": "f97006c1-8c86-43de-ffa7-e46e17353d13"
      },
      "id": "Wd18aFlcZr7H",
      "execution_count": 62,
      "outputs": [
        {
          "output_type": "stream",
          "name": "stdout",
          "text": [
            "MSE sur le jeu d'entrainement : 0.03154091164469719\n",
            "MSE sur le jeu de validation : 0.03188515082001686\n"
          ]
        }
      ]
    },
    {
      "cell_type": "code",
      "execution_count": null,
      "id": "7fed9427",
      "metadata": {
        "id": "7fed9427"
      },
      "outputs": [],
      "source": [
        "# TODO"
      ]
    },
    {
      "cell_type": "markdown",
      "id": "a5d478ba",
      "metadata": {
        "id": "a5d478ba"
      },
      "source": [
        "**Réponse** : TODO"
      ]
    },
    {
      "cell_type": "markdown",
      "id": "570fac56",
      "metadata": {
        "id": "570fac56"
      },
      "source": [
        "Nous allons maintenant essayer une autre approche un peu plus avancée pour rendre la distribution des pixels des images reconstruites plus proche de celles des pixels des images originales.\n",
        "Pour cela, nous allons utiliser la **transformation par quantiles**.\n",
        "\n",
        "Sur le jeu d'entraînement, on apprend :\n",
        "* $T_1$ : la transformation qui passe de la distribution des pixels des images originales à une distribution uniforme, et\n",
        "* $T_2$ : la transformation qui passe de la distribution des pixels des images reconstruites à une distribution uniforme.\n",
        "\n",
        "Ensuite, pour transformer les images reconstruites afin que la distribution de leurs pixels suive la distribution des pixels des images originales, on applique la transformation $T_1^{-1} \\circ T_2$ aux images reconstruites.\n",
        "\n",
        "Le code ci-dessous applique ces transformations sur les jeux d'entraînement et d'évaluation :"
      ]
    },
    {
      "cell_type": "code",
      "execution_count": 63,
      "id": "ce799684",
      "metadata": {
        "id": "ce799684"
      },
      "outputs": [],
      "source": [
        "from sklearn.preprocessing import QuantileTransformer\n",
        "\n",
        "\n",
        "qt_train_original = QuantileTransformer(n_quantiles=100, subsample=None)\n",
        "qt_train_reconstructed = QuantileTransformer(n_quantiles=100, subsample=None)\n",
        "\n",
        "qt_train_original.fit(X_train_original.ravel().view(-1, 1))\n",
        "qt_train_reconstructed.fit(X_train_reconstructed.ravel().view(-1, 1))\n",
        "\n",
        "X_train_reconstructed_quantile = qt_train_original.inverse_transform(\n",
        "    qt_train_reconstructed.transform(X_train_reconstructed.ravel().view(-1, 1))\n",
        ").reshape(X_train_reconstructed.shape)\n",
        "\n",
        "X_val_reconstructed_quantile = qt_train_original.inverse_transform(\n",
        "    qt_train_reconstructed.transform(X_val_reconstructed.ravel().view(-1, 1))\n",
        ").reshape(X_val_reconstructed.shape)"
      ]
    },
    {
      "cell_type": "markdown",
      "id": "be365ca7",
      "metadata": {
        "id": "be365ca7"
      },
      "source": [
        "### Question 11\n",
        "\n",
        "1. Affichez la nouvelle distribution des pixels sur le jeu d'entraînement.\n",
        "2. Affichez quelques images reconstruites transformées sur le jeu de validation avec la fonction `plot_original_deteriorated_reconstructed_images()`.\n",
        "3. Calculez les erreurs quadratiques moyennes sur les deux jeux.\n",
        "4. Commentez les résultats obtenus."
      ]
    },
    {
      "cell_type": "code",
      "execution_count": 66,
      "id": "470489e0",
      "metadata": {
        "colab": {
          "base_uri": "https://localhost:8080/",
          "height": 472
        },
        "id": "470489e0",
        "outputId": "a819e8e9-62af-4e85-e224-5e3d017f6b50"
      },
      "outputs": [
        {
          "output_type": "display_data",
          "data": {
            "text/plain": [
              "<Figure size 640x480 with 1 Axes>"
            ],
            "image/png": "[encoded data removed]"
          },
          "metadata": {}
        }
      ],
      "source": [
        "# TODO\n",
        "\n",
        "plt.hist(X_train_reconstructed_quantile.flatten(),\n",
        "         bins=50, color='salmon', edgecolor='black')\n",
        "plt.title(\"Distribution - Images reconstruites par transformation par quantiles\", fontsize=12)\n",
        "plt.xlabel(\"Valeur du pixel\", fontsize=10)\n",
        "plt.ylabel(\"Fréquence\", fontsize=10)\n",
        "plt.show()\n",
        "\n"
      ]
    },
    {
      "cell_type": "code",
      "execution_count": 71,
      "id": "75f3e6fa",
      "metadata": {
        "colab": {
          "base_uri": "https://localhost:8080/",
          "height": 207
        },
        "id": "75f3e6fa",
        "outputId": "c0b5d96d-61e7-4002-a71a-ee804e8adc04"
      },
      "outputs": [
        {
          "output_type": "display_data",
          "data": {
            "text/plain": [
              "<Figure size 650x300 with 3 Axes>"
            ],
            "image/png": "[encoded data removed]"
          },
          "metadata": {}
        }
      ],
      "source": [
        "# TODO\n",
        "# Convertir en tenseur PyTorch et ajouter la dimension batch\n",
        "reconstructed_img = torch.tensor(X_val_reconstructed_quantile[0]).unsqueeze(0)\n",
        "\n",
        "plot_original_deteriorated_reconstructed_images(\n",
        "    X_val_original[0].unsqueeze(0),\n",
        "    X_val_deteriorated[0].unsqueeze(0),\n",
        "    reconstructed_img\n",
        ")\n"
      ]
    },
    {
      "cell_type": "code",
      "source": [
        "reconstructed_img = torch.tensor(X_val_reconstructed_quantile[3]).unsqueeze(0)\n",
        "\n",
        "plot_original_deteriorated_reconstructed_images(\n",
        "    X_val_original[3].unsqueeze(0),\n",
        "    X_val_deteriorated[3].unsqueeze(0),\n",
        "    reconstructed_img\n",
        ")"
      ],
      "metadata": {
        "colab": {
          "base_uri": "https://localhost:8080/",
          "height": 207
        },
        "id": "JrGTRIbAcLNI",
        "outputId": "159ba463-b560-4718-f3c0-2a0c4817fec9"
      },
      "id": "JrGTRIbAcLNI",
      "execution_count": 72,
      "outputs": [
        {
          "output_type": "display_data",
          "data": {
            "text/plain": [
              "<Figure size 650x300 with 3 Axes>"
            ],
            "image/png": "[encoded data removed]"
          },
          "metadata": {}
        }
      ]
    },
    {
      "cell_type": "code",
      "execution_count": 74,
      "id": "9deb01ff",
      "metadata": {
        "colab": {
          "base_uri": "https://localhost:8080/"
        },
        "id": "9deb01ff",
        "outputId": "b5d6e7f6-8bbe-4ca1-c1fe-4ff799650b75"
      },
      "outputs": [
        {
          "output_type": "stream",
          "name": "stdout",
          "text": [
            "MSE sur le jeu d'entraînement : 0.0264\n",
            "MSE sur le jeu de validation  : 0.0262\n"
          ]
        }
      ],
      "source": [
        "# TODO\n",
        "\n",
        "\n",
        "# Convertir en tenseurs PyTorch\n",
        "X_train_reconstructed_t = torch.tensor(X_train_reconstructed_quantile, dtype=torch.float32)\n",
        "X_val_reconstructed_t   = torch.tensor(X_val_reconstructed_quantile, dtype=torch.float32)\n",
        "\n",
        "# Calcul MSE\n",
        "mse_train2 = criterion(X_train_reconstructed_t, X_train_original)\n",
        "mse_val2   = criterion(X_val_reconstructed_t, X_val_original)\n",
        "\n",
        "print(f\"MSE sur le jeu d'entraînement : {mse_train2.item():.4f}\")\n",
        "print(f\"MSE sur le jeu de validation  : {mse_val2.item():.4f}\")\n",
        "\n"
      ]
    },
    {
      "cell_type": "markdown",
      "source": [
        "On observe l'image reconstruite par la transformation par quantile a une meilleure résolution que celle avec la transformation normalisée. Les MSE train et MSE val sont presques identiques, et plus faibles à tous les autres MSE précedents."
      ],
      "metadata": {
        "id": "xO_GapEfcwpi"
      },
      "id": "xO_GapEfcwpi"
    },
    {
      "cell_type": "markdown",
      "id": "69209ba0",
      "metadata": {
        "id": "69209ba0"
      },
      "source": [
        "**Réponse** : TODO"
      ]
    },
    {
      "cell_type": "markdown",
      "id": "35ea1305",
      "metadata": {
        "id": "35ea1305"
      },
      "source": [
        "Nous allons maintenant essayer une approche par réseaux de neurones convolutifs.\n",
        "\n",
        "### Question 12\n",
        "\n",
        "Créez les *dataloaders* pour les jeux d'entraînement et de validation en utilisant la classe [`torch.utils.data.DataLoader()`](https://docs.pytorch.org/docs/stable/data.html#torch.utils.data.DataLoader) avec des lots de taille $32$. N'oubliez pas de mélanger (*shuffle*) les observations pour le jeu d'entraînement, mais pas pour le jeu de validation. Pour créer les jeux de données, utiliser la classe [`torch.utils.data.TensorDataset()`](https://docs.pytorch.org/docs/stable/data.html#torch.utils.data.TensorDataset). **Chaque jeu de données doit contenir à la fois les images détériorées et les images originales**."
      ]
    },
    {
      "cell_type": "code",
      "execution_count": 75,
      "id": "8ef54b20",
      "metadata": {
        "id": "8ef54b20"
      },
      "outputs": [],
      "source": [
        "# TODO\n",
        "\n",
        "from torch.utils.data import DataLoader\n",
        "\n",
        "dataset_train = torch.utils.data.TensorDataset(X_train_deteriorated, X_train_original)\n",
        "dataset_val = torch.utils.data.TensorDataset(X_val_deteriorated, X_val_original)\n",
        "\n",
        "\n",
        "dataloader_train = DataLoader(dataset_train, batch_size=32, shuffle=True)\n",
        "dataloader_val = DataLoader(dataset_val, batch_size=32)\n"
      ]
    },
    {
      "cell_type": "markdown",
      "id": "84a20c50",
      "metadata": {
        "id": "84a20c50"
      },
      "source": [
        "## Architecture"
      ]
    },
    {
      "cell_type": "markdown",
      "id": "69747852",
      "metadata": {
        "id": "69747852"
      },
      "source": [
        "Nous allons utiliser une architecture de type auto-encodeur, composée d'un encodeur et d'un décodeur.\n",
        "\n",
        "L'encodeur aura l'architecture séquentielle suivante :\n",
        "\n",
        "* Convolution en deux dimensions avec $32$ canaux en sortie, un noyau de taille $3 \\times 3$ et du rembourrage (*padding*) de $1$.\n",
        "* Fonction d'activation ReLU.\n",
        "* Regroupement par le maximum avec un noyau de taille $2 \\times 2$.\n",
        "* Convolution en deux dimensions avec $16$ canaux en sortie, un noyau de taille $3 \\times 3$ et du rembourrage (*padding*) de $1$.\n",
        "* Fonction d'activation ReLU.\n",
        "* Regroupement par le maximum avec un noyau de taille $2 \\times 2$.\n",
        "* Convolution en deux dimensions avec $8$ canaux en sorties, un noyau de taille $3 \\times 3$ et du rembourrage (*padding*) de $1$.\n",
        "* Fonction d'activation ReLU.\n",
        "* Regroupement par le maximum avec un noyau de taille $2 \\times 2$.\n",
        "\n",
        "Le décodeur aura l'architecture séquentielle suivante :\n",
        "\n",
        "* Convolution transposée avec $8$ canaux en sortie, un noyau de taille $3 \\times 3$ et un pas (*stride*) de taille $2$.\n",
        "* Fonction d'activation ReLU.\n",
        "\n",
        "* Convolution transposée avec $16$ canaux en sortie, un noyau de taille $2 \\times 2$ et un pas (*stride*) de taille $2$.\n",
        "* Fonction d'activation ReLU.\n",
        "\n",
        "* Convolution transposée avec $32$ canaux en sortie, un noyau de taille $2 \\times 2$ et un pas (*stride*) de taille $2$.\n",
        "* Fonction d'activation ReLU.\n",
        "\n",
        "* Convolution avec $1$ canal en sortie, un noyau de taille $3 \\times 3$ et du rembourrage (*padding*) de $1$.\n",
        "* Fonction d'activation sigmoïde.\n",
        "\n",
        "Voici les liens vers les documentations des classes pertinentes :\n",
        "[`torch.nn.Conv2d()`](https://pytorch.org/docs/stable/generated/torch.nn.Conv2d.html),\n",
        "[`torch.nn.ReLU()`](https://pytorch.org/docs/stable/generated/torch.nn.ReLU.html),\n",
        "[`torch.nn.MaxPool2d()`](https://pytorch.org/docs/stable/generated/torch.nn.MaxPool2d.html),\n",
        "[`torch.nn.ConvTranspose2d()`](https://pytorch.org/docs/stable/generated/torch.nn.ConvTranspose2d.html) et\n",
        "[`torch.nn.Sigmoid()`](https://pytorch.org/docs/stable/generated/torch.nn.Sigmoid.html).\n",
        "\n",
        "        \n",
        "### Question 13\n",
        "\n",
        "Complétez le code manquant dans les méthodes `__init__()`, `forward()`, `step()` et `configure_optimizers()` de la classe `DenoisingAutoencoder()` avec les informations suivantes :\n",
        "* `__init__()` : il faut définir la fonction de perte (`self.loss`) : on utilisera l'erreur quadratique moyenne ; il faut initialiser toutes les couches.\n",
        "* `forward()` : il faut définir la passe avant, c'est-à-dire comment passer des entrées (les images détériorées) aux sorties (les images reconstruites).\n",
        "* `step()` : étant donné un lot d'observations (`batch`), il faut :\n",
        "    + récupérer les entrées (les images détériorées) et les vraies sorties (les images originales),\n",
        "    + faire une passe avant pour récupérer les images reconstruites,\n",
        "    + calculer la fonction de coût entre les images reconstruites et les images originales (`loss`).\n",
        "* `configure_optimizers()` : on utilisera l'algorithme d'optimisation *Adam* avec les valeurs par défaut pour ses hyperparamètres."
      ]
    },
    {
      "cell_type": "code",
      "source": [
        "import lightning as L\n",
        "\n",
        "\n",
        "class DenoisingAutoencoder(L.LightningModule):\n",
        "\n",
        "    def __init__(self):\n",
        "        \"\"\"Constructeur.\n",
        "\n",
        "        Dans le constructeur, on exécute le constructeur de la clase mère et on définit\n",
        "        toutes les couches et fonctions d'activation de notre réseau de neurones.\n",
        "        \"\"\"\n",
        "        super().__init__()  # Toujours exécuter le constructeur de la classe mère\n",
        "\n",
        "        ### BEGIN TODO ###\n",
        "        # Initialisation de la fonction de perte\n",
        "        self.loss = nn.MSELoss()\n",
        "\n",
        "        # Encodeur\n",
        "        self.encoder = nn.Sequential(\n",
        "            nn.Conv2d(1, 32, kernel_size=3, padding=1),\n",
        "            nn.ReLU(),\n",
        "            nn.MaxPool2d(kernel_size=2),\n",
        "            nn.Conv2d(32, 16, kernel_size=3, padding=1),\n",
        "            nn.ReLU(),\n",
        "            nn.MaxPool2d(kernel_size=2),\n",
        "            nn.Conv2d(16, 8, kernel_size=3, padding=1),\n",
        "            nn.ReLU(),\n",
        "            nn.MaxPool2d(kernel_size=2)\n",
        "        )\n",
        "\n",
        "        # Décodeur\n",
        "        self.decoder = nn.Sequential(\n",
        "            nn.ConvTranspose2d(8, 8, kernel_size=3, stride=2),\n",
        "            nn.ReLU(),\n",
        "            nn.ConvTranspose2d(8, 16, kernel_size=2, stride=2),\n",
        "            nn.ReLU(),\n",
        "            nn.ConvTranspose2d(16, 32, kernel_size=2, stride=2),\n",
        "            nn.ReLU(),\n",
        "            nn.Conv2d(32, 1, kernel_size=3, padding=1),\n",
        "            nn.Sigmoid()\n",
        "        )\n",
        "\n",
        "        # Initialisation de toutes les couches\n",
        "\n",
        "        #### END TODO ####\n",
        "\n",
        "    def forward(self, X_deteriorated):\n",
        "        ### BEGIN TODO ###\n",
        "        X_encoded = self.encoder(X_deteriorated)\n",
        "        X_predicted = self.decoder(X_encoded)\n",
        "        #### END TODO ###\n",
        "        return X_predicted\n",
        "\n",
        "    def step(self, batch, dataset):\n",
        "        X_original, X_deteriorated = batch\n",
        "        ### BEGIN TODO ###\n",
        "        X_predicted = self.forward(X_deteriorated)\n",
        "        loss = self.loss(X_predicted, X_original)\n",
        "        #### END TODO ###\n",
        "\n",
        "        name = \"train\" if dataset==\"training\" else \"val\"\n",
        "        bar_step = dataset==\"training\"\n",
        "\n",
        "        self.log(f\"loss_{name}\", loss, prog_bar=bar_step, on_step=bar_step, on_epoch=True)\n",
        "        return loss\n",
        "\n",
        "    def training_step(self, batch):\n",
        "        \"\"\"Effectue une étape d'entraînement.\"\"\"\n",
        "        return self.step(batch, \"training\")\n",
        "\n",
        "    def validation_step(self, batch):\n",
        "        \"\"\"Effectue une étape de validation.\"\"\"\n",
        "        return self.step(batch, \"validation\")\n",
        "\n",
        "    def on_train_start(self):\n",
        "        \"\"\"Code exécuté au début de l'entraînement.\"\"\"\n",
        "        string = f\"Version {self.trainer.logger.version}\"\n",
        "        print(f\"{string}\\n{'=' * len(string)}\\n\")\n",
        "\n",
        "    def on_train_epoch_end(self):\n",
        "        \"\"\"Code exécuté à la fin de chaque époque d'entraînement.\"\"\"\n",
        "        metrics = self.trainer.callback_metrics\n",
        "        string = (f\"\"\"\n",
        "            Époque {self.trainer.current_epoch + 1} / {self.trainer.max_epochs}\n",
        "            ------------------------------------\n",
        "            |     Jeu      | Fonction de perte |\n",
        "            | ------------ | ----------------- |\n",
        "            | Entraînement |{metrics['loss_train'].item():^19.5f}|\n",
        "            |  Validation  |{metrics['loss_val'].item():^19.5f}|\n",
        "            ------------------------------------\n",
        "        \"\"\")\n",
        "        string = '\\n'.join([line.strip() for line in string.strip().split('\\n')])\n",
        "        print(string, '\\n')\n",
        "\n",
        "    def configure_optimizers(self):\n",
        "        \"\"\"Configure l'algorithme d'optimisation à utiliser.\"\"\"\n",
        "        ### BEGIN TODO ###\n",
        "        optimizer = torch.optim.Adam(self.parameters())\n",
        "        #### END TODO ####\n",
        "        return optimizer"
      ],
      "metadata": {
        "colab": {
          "base_uri": "https://localhost:8080/",
          "height": 383
        },
        "id": "qjoQk4zegfkr",
        "outputId": "6f826e89-b944-4ff5-a8df-0be2026e2e61"
      },
      "id": "qjoQk4zegfkr",
      "execution_count": 1,
      "outputs": [
        {
          "output_type": "error",
          "ename": "ModuleNotFoundError",
          "evalue": "No module named 'lightning'",
          "traceback": [
            "\u001b[0;31m---------------------------------------------------------------------------\u001b[0m",
            "\u001b[0;31mModuleNotFoundError\u001b[0m                       Traceback (most recent call last)",
            "\u001b[0;32m/tmp/ipython-input-2905146196.py\u001b[0m in \u001b[0;36m<cell line: 0>\u001b[0;34m()\u001b[0m\n\u001b[0;32m----> 1\u001b[0;31m \u001b[0;32mimport\u001b[0m \u001b[0mlightning\u001b[0m \u001b[0;32mas\u001b[0m \u001b[0mL\u001b[0m\u001b[0;34m\u001b[0m\u001b[0;34m\u001b[0m\u001b[0m\n\u001b[0m\u001b[1;32m      2\u001b[0m \u001b[0;34m\u001b[0m\u001b[0m\n\u001b[1;32m      3\u001b[0m \u001b[0;34m\u001b[0m\u001b[0m\n\u001b[1;32m      4\u001b[0m \u001b[0;32mclass\u001b[0m \u001b[0mDenoisingAutoencoder\u001b[0m\u001b[0;34m(\u001b[0m\u001b[0mL\u001b[0m\u001b[0;34m.\u001b[0m\u001b[0mLightningModule\u001b[0m\u001b[0;34m)\u001b[0m\u001b[0;34m:\u001b[0m\u001b[0;34m\u001b[0m\u001b[0;34m\u001b[0m\u001b[0m\n\u001b[1;32m      5\u001b[0m \u001b[0;34m\u001b[0m\u001b[0m\n",
            "\u001b[0;31mModuleNotFoundError\u001b[0m: No module named 'lightning'",
            "",
            "\u001b[0;31m---------------------------------------------------------------------------\u001b[0;32m\nNOTE: If your import is failing due to a missing package, you can\nmanually install dependencies using either !pip or !apt.\n\nTo view examples of installing some common dependencies, click the\n\"Open Examples\" button below.\n\u001b[0;31m---------------------------------------------------------------------------\u001b[0m\n"
          ],
          "errorDetails": {
            "actions": [
              {
                "action": "open_url",
                "actionText": "Open Examples",
                "url": "/notebooks/snippets/importing_libraries.ipynb"
              }
            ]
          }
        }
      ]
    },
    {
      "cell_type": "markdown",
      "id": "10adda94",
      "metadata": {
        "id": "10adda94"
      },
      "source": [
        "### Question 14\n",
        "\n",
        "Affichez un résumé de votre architecture. Combien de paramètres entraînables a-t-elle ?"
      ]
    },
    {
      "cell_type": "code",
      "execution_count": 79,
      "id": "8cc79ebe",
      "metadata": {
        "colab": {
          "base_uri": "https://localhost:8080/"
        },
        "id": "8cc79ebe",
        "outputId": "52a86b62-444b-49ca-87bf-c822ef45e16c"
      },
      "outputs": [
        {
          "output_type": "stream",
          "name": "stdout",
          "text": [
            "Requirement already satisfied: torchsummary in /usr/local/lib/python3.12/dist-packages (1.5.1)\n",
            "----------------------------------------------------------------\n",
            "        Layer (type)               Output Shape         Param #\n",
            "================================================================\n",
            "            Conv2d-1           [-1, 32, 28, 28]             320\n",
            "              ReLU-2           [-1, 32, 28, 28]               0\n",
            "         MaxPool2d-3           [-1, 32, 14, 14]               0\n",
            "            Conv2d-4           [-1, 16, 14, 14]           4,624\n",
            "              ReLU-5           [-1, 16, 14, 14]               0\n",
            "         MaxPool2d-6             [-1, 16, 7, 7]               0\n",
            "            Conv2d-7              [-1, 8, 7, 7]           1,160\n",
            "              ReLU-8              [-1, 8, 7, 7]               0\n",
            "         MaxPool2d-9              [-1, 8, 3, 3]               0\n",
            "  ConvTranspose2d-10              [-1, 8, 7, 7]             584\n",
            "             ReLU-11              [-1, 8, 7, 7]               0\n",
            "  ConvTranspose2d-12           [-1, 16, 14, 14]             528\n",
            "             ReLU-13           [-1, 16, 14, 14]               0\n",
            "  ConvTranspose2d-14           [-1, 32, 28, 28]           2,080\n",
            "             ReLU-15           [-1, 32, 28, 28]               0\n",
            "           Conv2d-16            [-1, 1, 28, 28]             289\n",
            "          Sigmoid-17            [-1, 1, 28, 28]               0\n",
            "================================================================\n",
            "Total params: 9,585\n",
            "Trainable params: 9,585\n",
            "Non-trainable params: 0\n",
            "----------------------------------------------------------------\n",
            "Input size (MB): 0.00\n",
            "Forward/backward pass size (MB): 0.94\n",
            "Params size (MB): 0.04\n",
            "Estimated Total Size (MB): 0.98\n",
            "----------------------------------------------------------------\n"
          ]
        }
      ],
      "source": [
        "# TODO\n",
        "!pip install torchsummary\n",
        "from torchsummary import summary\n",
        "\n",
        "\n",
        "model = DenoisingAutoencoder()\n",
        "device = torch.device(\"cuda\" if torch.cuda.is_available() else \"cpu\")\n",
        "model.to(device)\n",
        "summary(model, input_size=(1, 28, 28))\n"
      ]
    },
    {
      "cell_type": "markdown",
      "id": "2ec8706e",
      "metadata": {
        "id": "2ec8706e"
      },
      "source": [
        "**Réponse** :   On a 9585 paramètres entrainables."
      ]
    },
    {
      "cell_type": "markdown",
      "id": "bf034930",
      "metadata": {
        "id": "bf034930"
      },
      "source": [
        "### Question 15\n",
        "\n",
        "Entraînez votre modèle pendant $10$ époques."
      ]
    },
    {
      "cell_type": "code",
      "execution_count": 82,
      "id": "70f751c3",
      "metadata": {
        "scrolled": false,
        "colab": {
          "base_uri": "https://localhost:8080/",
          "height": 373
        },
        "id": "70f751c3",
        "outputId": "114286f5-7c12-4a56-a10a-b4b92e33403a"
      },
      "outputs": [
        {
          "output_type": "error",
          "ename": "MisconfigurationException",
          "evalue": "No `training_step()` method defined. Lightning `Trainer` expects as minimum a `training_step()`, `train_dataloader()` and `configure_optimizers()` to be defined.",
          "traceback": [
            "\u001b[0;31m---------------------------------------------------------------------------\u001b[0m",
            "\u001b[0;31mMisconfigurationException\u001b[0m                 Traceback (most recent call last)",
            "\u001b[0;32m/tmp/ipython-input-3561523460.py\u001b[0m in \u001b[0;36m<cell line: 0>\u001b[0;34m()\u001b[0m\n\u001b[1;32m     16\u001b[0m \u001b[0;34m\u001b[0m\u001b[0m\n\u001b[1;32m     17\u001b[0m \u001b[0;31m# Entraînement\u001b[0m\u001b[0;34m\u001b[0m\u001b[0;34m\u001b[0m\u001b[0m\n\u001b[0;32m---> 18\u001b[0;31m trainer.fit(\n\u001b[0m\u001b[1;32m     19\u001b[0m     \u001b[0mmodel\u001b[0m\u001b[0;34m=\u001b[0m\u001b[0mmodel\u001b[0m\u001b[0;34m,\u001b[0m\u001b[0;34m\u001b[0m\u001b[0;34m\u001b[0m\u001b[0m\n\u001b[1;32m     20\u001b[0m     \u001b[0mtrain_dataloaders\u001b[0m\u001b[0;34m=\u001b[0m\u001b[0mdataloader_train\u001b[0m\u001b[0;34m,\u001b[0m  \u001b[0;31m# tes DataLoader d'entraînement\u001b[0m\u001b[0;34m\u001b[0m\u001b[0;34m\u001b[0m\u001b[0m\n",
            "\u001b[0;32m/usr/local/lib/python3.12/dist-packages/lightning/pytorch/trainer/trainer.py\u001b[0m in \u001b[0;36mfit\u001b[0;34m(self, model, train_dataloaders, val_dataloaders, datamodule, ckpt_path)\u001b[0m\n\u001b[1;32m    558\u001b[0m         \u001b[0mself\u001b[0m\u001b[0;34m.\u001b[0m\u001b[0mtraining\u001b[0m \u001b[0;34m=\u001b[0m \u001b[0;32mTrue\u001b[0m\u001b[0;34m\u001b[0m\u001b[0;34m\u001b[0m\u001b[0m\n\u001b[1;32m    559\u001b[0m         \u001b[0mself\u001b[0m\u001b[0;34m.\u001b[0m\u001b[0mshould_stop\u001b[0m \u001b[0;34m=\u001b[0m \u001b[0;32mFalse\u001b[0m\u001b[0;34m\u001b[0m\u001b[0;34m\u001b[0m\u001b[0m\n\u001b[0;32m--> 560\u001b[0;31m         call._call_and_handle_interrupt(\n\u001b[0m\u001b[1;32m    561\u001b[0m             \u001b[0mself\u001b[0m\u001b[0;34m,\u001b[0m \u001b[0mself\u001b[0m\u001b[0;34m.\u001b[0m\u001b[0m_fit_impl\u001b[0m\u001b[0;34m,\u001b[0m \u001b[0mmodel\u001b[0m\u001b[0;34m,\u001b[0m \u001b[0mtrain_dataloaders\u001b[0m\u001b[0;34m,\u001b[0m \u001b[0mval_dataloaders\u001b[0m\u001b[0;34m,\u001b[0m \u001b[0mdatamodule\u001b[0m\u001b[0;34m,\u001b[0m \u001b[0mckpt_path\u001b[0m\u001b[0;34m\u001b[0m\u001b[0;34m\u001b[0m\u001b[0m\n\u001b[1;32m    562\u001b[0m         )\n",
            "\u001b[0;32m/usr/local/lib/python3.12/dist-packages/lightning/pytorch/trainer/call.py\u001b[0m in \u001b[0;36m_call_and_handle_interrupt\u001b[0;34m(trainer, trainer_fn, *args, **kwargs)\u001b[0m\n\u001b[1;32m     47\u001b[0m         \u001b[0;32mif\u001b[0m \u001b[0mtrainer\u001b[0m\u001b[0;34m.\u001b[0m\u001b[0mstrategy\u001b[0m\u001b[0;34m.\u001b[0m\u001b[0mlauncher\u001b[0m \u001b[0;32mis\u001b[0m \u001b[0;32mnot\u001b[0m \u001b[0;32mNone\u001b[0m\u001b[0;34m:\u001b[0m\u001b[0;34m\u001b[0m\u001b[0;34m\u001b[0m\u001b[0m\n\u001b[1;32m     48\u001b[0m             \u001b[0;32mreturn\u001b[0m \u001b[0mtrainer\u001b[0m\u001b[0;34m.\u001b[0m\u001b[0mstrategy\u001b[0m\u001b[0;34m.\u001b[0m\u001b[0mlauncher\u001b[0m\u001b[0;34m.\u001b[0m\u001b[0mlaunch\u001b[0m\u001b[0;34m(\u001b[0m\u001b[0mtrainer_fn\u001b[0m\u001b[0;34m,\u001b[0m \u001b[0;34m*\u001b[0m\u001b[0margs\u001b[0m\u001b[0;34m,\u001b[0m \u001b[0mtrainer\u001b[0m\u001b[0;34m=\u001b[0m\u001b[0mtrainer\u001b[0m\u001b[0;34m,\u001b[0m \u001b[0;34m**\u001b[0m\u001b[0mkwargs\u001b[0m\u001b[0;34m)\u001b[0m\u001b[0;34m\u001b[0m\u001b[0;34m\u001b[0m\u001b[0m\n\u001b[0;32m---> 49\u001b[0;31m         \u001b[0;32mreturn\u001b[0m \u001b[0mtrainer_fn\u001b[0m\u001b[0;34m(\u001b[0m\u001b[0;34m*\u001b[0m\u001b[0margs\u001b[0m\u001b[0;34m,\u001b[0m \u001b[0;34m**\u001b[0m\u001b[0mkwargs\u001b[0m\u001b[0;34m)\u001b[0m\u001b[0;34m\u001b[0m\u001b[0;34m\u001b[0m\u001b[0m\n\u001b[0m\u001b[1;32m     50\u001b[0m \u001b[0;34m\u001b[0m\u001b[0m\n\u001b[1;32m     51\u001b[0m     \u001b[0;32mexcept\u001b[0m \u001b[0m_TunerExitException\u001b[0m\u001b[0;34m:\u001b[0m\u001b[0;34m\u001b[0m\u001b[0;34m\u001b[0m\u001b[0m\n",
            "\u001b[0;32m/usr/local/lib/python3.12/dist-packages/lightning/pytorch/trainer/trainer.py\u001b[0m in \u001b[0;36m_fit_impl\u001b[0;34m(self, model, train_dataloaders, val_dataloaders, datamodule, ckpt_path)\u001b[0m\n\u001b[1;32m    596\u001b[0m             \u001b[0mmodel_connected\u001b[0m\u001b[0;34m=\u001b[0m\u001b[0mself\u001b[0m\u001b[0;34m.\u001b[0m\u001b[0mlightning_module\u001b[0m \u001b[0;32mis\u001b[0m \u001b[0;32mnot\u001b[0m \u001b[0;32mNone\u001b[0m\u001b[0;34m,\u001b[0m\u001b[0;34m\u001b[0m\u001b[0;34m\u001b[0m\u001b[0m\n\u001b[1;32m    597\u001b[0m         )\n\u001b[0;32m--> 598\u001b[0;31m         \u001b[0mself\u001b[0m\u001b[0;34m.\u001b[0m\u001b[0m_run\u001b[0m\u001b[0;34m(\u001b[0m\u001b[0mmodel\u001b[0m\u001b[0;34m,\u001b[0m \u001b[0mckpt_path\u001b[0m\u001b[0;34m=\u001b[0m\u001b[0mckpt_path\u001b[0m\u001b[0;34m)\u001b[0m\u001b[0;34m\u001b[0m\u001b[0;34m\u001b[0m\u001b[0m\n\u001b[0m\u001b[1;32m    599\u001b[0m \u001b[0;34m\u001b[0m\u001b[0m\n\u001b[1;32m    600\u001b[0m         \u001b[0;32massert\u001b[0m \u001b[0mself\u001b[0m\u001b[0;34m.\u001b[0m\u001b[0mstate\u001b[0m\u001b[0;34m.\u001b[0m\u001b[0mstopped\u001b[0m\u001b[0;34m\u001b[0m\u001b[0;34m\u001b[0m\u001b[0m\n",
            "\u001b[0;32m/usr/local/lib/python3.12/dist-packages/lightning/pytorch/trainer/trainer.py\u001b[0m in \u001b[0;36m_run\u001b[0;34m(self, model, ckpt_path)\u001b[0m\n\u001b[1;32m    959\u001b[0m         \u001b[0mself\u001b[0m\u001b[0;34m.\u001b[0m\u001b[0m_callback_connector\u001b[0m\u001b[0;34m.\u001b[0m\u001b[0m_attach_model_logging_functions\u001b[0m\u001b[0;34m(\u001b[0m\u001b[0;34m)\u001b[0m\u001b[0;34m\u001b[0m\u001b[0;34m\u001b[0m\u001b[0m\n\u001b[1;32m    960\u001b[0m \u001b[0;34m\u001b[0m\u001b[0m\n\u001b[0;32m--> 961\u001b[0;31m         \u001b[0m_verify_loop_configurations\u001b[0m\u001b[0;34m(\u001b[0m\u001b[0mself\u001b[0m\u001b[0;34m)\u001b[0m\u001b[0;34m\u001b[0m\u001b[0;34m\u001b[0m\u001b[0m\n\u001b[0m\u001b[1;32m    962\u001b[0m \u001b[0;34m\u001b[0m\u001b[0m\n\u001b[1;32m    963\u001b[0m         \u001b[0;31m# ----------------------------\u001b[0m\u001b[0;34m\u001b[0m\u001b[0;34m\u001b[0m\u001b[0m\n",
            "\u001b[0;32m/usr/local/lib/python3.12/dist-packages/lightning/pytorch/trainer/configuration_validator.py\u001b[0m in \u001b[0;36m_verify_loop_configurations\u001b[0;34m(trainer)\u001b[0m\n\u001b[1;32m     34\u001b[0m         \u001b[0;32mraise\u001b[0m \u001b[0mValueError\u001b[0m\u001b[0;34m(\u001b[0m\u001b[0;34m\"Unexpected: Trainer state fn must be set before validating loop configuration.\"\u001b[0m\u001b[0;34m)\u001b[0m\u001b[0;34m\u001b[0m\u001b[0;34m\u001b[0m\u001b[0m\n\u001b[1;32m     35\u001b[0m     \u001b[0;32mif\u001b[0m \u001b[0mtrainer\u001b[0m\u001b[0;34m.\u001b[0m\u001b[0mstate\u001b[0m\u001b[0;34m.\u001b[0m\u001b[0mfn\u001b[0m \u001b[0;34m==\u001b[0m \u001b[0mTrainerFn\u001b[0m\u001b[0;34m.\u001b[0m\u001b[0mFITTING\u001b[0m\u001b[0;34m:\u001b[0m\u001b[0;34m\u001b[0m\u001b[0;34m\u001b[0m\u001b[0m\n\u001b[0;32m---> 36\u001b[0;31m         \u001b[0m__verify_train_val_loop_configuration\u001b[0m\u001b[0;34m(\u001b[0m\u001b[0mtrainer\u001b[0m\u001b[0;34m,\u001b[0m \u001b[0mmodel\u001b[0m\u001b[0;34m)\u001b[0m\u001b[0;34m\u001b[0m\u001b[0;34m\u001b[0m\u001b[0m\n\u001b[0m\u001b[1;32m     37\u001b[0m         \u001b[0m__verify_manual_optimization_support\u001b[0m\u001b[0;34m(\u001b[0m\u001b[0mtrainer\u001b[0m\u001b[0;34m,\u001b[0m \u001b[0mmodel\u001b[0m\u001b[0;34m)\u001b[0m\u001b[0;34m\u001b[0m\u001b[0;34m\u001b[0m\u001b[0m\n\u001b[1;32m     38\u001b[0m     \u001b[0;32melif\u001b[0m \u001b[0mtrainer\u001b[0m\u001b[0;34m.\u001b[0m\u001b[0mstate\u001b[0m\u001b[0;34m.\u001b[0m\u001b[0mfn\u001b[0m \u001b[0;34m==\u001b[0m \u001b[0mTrainerFn\u001b[0m\u001b[0;34m.\u001b[0m\u001b[0mVALIDATING\u001b[0m\u001b[0;34m:\u001b[0m\u001b[0;34m\u001b[0m\u001b[0;34m\u001b[0m\u001b[0m\n",
            "\u001b[0;32m/usr/local/lib/python3.12/dist-packages/lightning/pytorch/trainer/configuration_validator.py\u001b[0m in \u001b[0;36m__verify_train_val_loop_configuration\u001b[0;34m(trainer, model)\u001b[0m\n\u001b[1;32m     51\u001b[0m     \u001b[0mhas_training_step\u001b[0m \u001b[0;34m=\u001b[0m \u001b[0mis_overridden\u001b[0m\u001b[0;34m(\u001b[0m\u001b[0;34m\"training_step\"\u001b[0m\u001b[0;34m,\u001b[0m \u001b[0mmodel\u001b[0m\u001b[0;34m)\u001b[0m\u001b[0;34m\u001b[0m\u001b[0;34m\u001b[0m\u001b[0m\n\u001b[1;32m     52\u001b[0m     \u001b[0;32mif\u001b[0m \u001b[0;32mnot\u001b[0m \u001b[0mhas_training_step\u001b[0m\u001b[0;34m:\u001b[0m\u001b[0;34m\u001b[0m\u001b[0;34m\u001b[0m\u001b[0m\n\u001b[0;32m---> 53\u001b[0;31m         raise MisconfigurationException(\n\u001b[0m\u001b[1;32m     54\u001b[0m             \u001b[0;34m\"No `training_step()` method defined. Lightning `Trainer` expects as minimum a\"\u001b[0m\u001b[0;34m\u001b[0m\u001b[0;34m\u001b[0m\u001b[0m\n\u001b[1;32m     55\u001b[0m             \u001b[0;34m\" `training_step()`, `train_dataloader()` and `configure_optimizers()` to be defined.\"\u001b[0m\u001b[0;34m\u001b[0m\u001b[0;34m\u001b[0m\u001b[0m\n",
            "\u001b[0;31mMisconfigurationException\u001b[0m: No `training_step()` method defined. Lightning `Trainer` expects as minimum a `training_step()`, `train_dataloader()` and `configure_optimizers()` to be defined."
          ]
        }
      ],
      "source": [
        "import lightning as L\n",
        "from lightning.pytorch.loggers import CSVLogger\n",
        "from lightning.pytorch.callbacks import TQDMProgressBar\n",
        "\n",
        "# Instanciation du modèle\n",
        "model = DenoisingAutoencoder()\n",
        "\n",
        "# Instanciation du Trainer\n",
        "trainer = L.Trainer(\n",
        "    max_epochs=10,\n",
        "    enable_model_summary=False,\n",
        "    logger=CSVLogger(\".\"),\n",
        "    num_sanity_val_steps=0,\n",
        "    callbacks=[TQDMProgressBar(refresh_rate=100)]\n",
        ")\n",
        "\n",
        "# Entraînement\n",
        "trainer.fit(\n",
        "    model=model,\n",
        "    train_dataloaders=dataloader_train,\n",
        "    val_dataloaders=dataloader_val\n",
        ")\n"
      ]
    },
    {
      "cell_type": "markdown",
      "id": "c0075a9e",
      "metadata": {
        "id": "c0075a9e"
      },
      "source": [
        "On récupère toutes les images reconstruites par le réseau de neurones artificiels sur le jeu de validation :"
      ]
    },
    {
      "cell_type": "code",
      "execution_count": null,
      "id": "e931ceea",
      "metadata": {
        "id": "e931ceea"
      },
      "outputs": [],
      "source": [
        "X_val_reconstructed_dae = model(X_val_deteriorated).detach()"
      ]
    },
    {
      "cell_type": "markdown",
      "id": "05fdf825",
      "metadata": {
        "id": "05fdf825"
      },
      "source": [
        "### Question 16\n",
        "\n",
        "En utilisant la fonction `plot_original_deteriorated_reconstructed_images()`, affichez quelques images reconstruites par le réseau de neurones artificiels sur le jeu de validation."
      ]
    },
    {
      "cell_type": "code",
      "execution_count": null,
      "id": "08ccba93",
      "metadata": {
        "id": "08ccba93"
      },
      "outputs": [],
      "source": [
        "# TODO"
      ]
    },
    {
      "cell_type": "markdown",
      "id": "22ea0b87",
      "metadata": {
        "id": "22ea0b87"
      },
      "source": [
        "### Question 17\n",
        "\n",
        "Quel est le meilleur modèle parmi les différentes approches essayées ? Justifiez votre réponse."
      ]
    },
    {
      "cell_type": "markdown",
      "id": "e6b86ec6",
      "metadata": {
        "id": "e6b86ec6"
      },
      "source": [
        "**Réponse** : TODO"
      ]
    }
  ],
  "metadata": {
    "kernelspec": {
      "display_name": "Python 3",
      "name": "python3"
    },
    "language_info": {
      "codemirror_mode": {
        "name": "ipython",
        "version": 3
      },
      "file_extension": ".py",
      "mimetype": "text/x-python",
      "name": "python",
      "nbconvert_exporter": "python",
      "pygments_lexer": "ipython3",
      "version": "3.12.7"
    },
    "colab": {
      "provenance": [],
      "gpuType": "T4"
    },
    "accelerator": "GPU"
  },
  "nbformat": 4,
  "nbformat_minor": 5
}